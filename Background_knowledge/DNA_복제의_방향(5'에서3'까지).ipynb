{
 "cells": [
  {
   "cell_type": "markdown",
   "metadata": {},
   "source": [
    "[The ScienceTimes-DNA 복제에도 방향이 있다.](https://www.sciencetimes.co.kr/?news=dna-%EB%B3%B5%EC%A0%9C%EC%97%90%EB%8F%84-%EB%B0%A9%ED%96%A5%EC%9D%B4-%EC%9E%88%EB%8B%A4)  \n",
    "하기 내용은 상기 링크를 정리한것."
   ]
  },
  {
   "cell_type": "markdown",
   "metadata": {},
   "source": [
    "# DNA 복제에도 방향이 있다.\n",
    "## 센트럴 도그마\n",
    "물리적, 생물학적 현상에는 방향성이 존재한다.  \n",
    "즉, 뉴턴의 사과가 중력에 의해 아래로 떨어지듯 생명현상에도 같은 현상이 존재한다.  \n",
    "이러한 생명현상의 중심원리에는 \"센트럴 도그마(Central Dogma)\"라는 것이 존재한다.  \n",
    "**\"센트럴 도그마\"**는 유전정보의 방향이 \n",
    "* DNA $\\rightarrow$ RNA로, \n",
    "* RNA $\\rightarrow$ 단백질로  \n",
    "  \n",
    "진행된다는 원리이다."
   ]
  },
  {
   "cell_type": "markdown",
   "metadata": {},
   "source": [
    "이때   \n",
    "* DNA $\\rightarrow$ RNA가는 과정을\n",
    "    * **전사**  \n",
    "  \n",
    "라고 하며,  \n",
    "* RNA $\\rightarrow$ 단백질로 가는 과정을\n",
    "    * **번역**  \n",
    "  \n",
    "이라고 부른다."
   ]
  },
  {
   "cell_type": "markdown",
   "metadata": {},
   "source": [
    "## DNA 복제의 방향성(5'~3')"
   ]
  },
  {
   "cell_type": "markdown",
   "metadata": {},
   "source": [
    "DNA는 생명 유지를 위하여 지속적인 복제를 한다.  \n",
    "DNA가 복제를 일으키기 때문에 세포분열을 통해 새로 생성되는 세포 또한 같은 DNA를 가질 수 밖에 없다.  \n",
    "이때 DNA복제 또한 일정한 방향을 따라 복제가 되는데 5'(5프라임)에서 3'(3프라임)의 방향으로 복제가 일어난다.  \n",
    "즉, 반대상황인 3'에서 5'을 향한 복제는 일어나지 않는다.  \n",
    "이러한 상황을 이해하기 위해서는 DNA의 생화학적 구조를 알아둘 필요가 있다.  \n",
    "DNA의 기본구조는 골격에 해당하는 5탄당과 염기로 구성되며, 5탄당은 탄소 5개로 이루어진 당을 의미한다.  \n",
    "염기는 DNA를 구성하는 아데닌(A), 시토닌(C), 티민(T), 구아닌(G)을 각각 의미한다.  \n",
    "  \n",
    "이 5탕단의 탄소에 번호를 붙여 첫번째 탄소는 1번 탄소, 두번째 탄소는 2번 탄소, $\\cdots$, 5번쨰 탄소는 5번 탄소 라고 부른다.  \n",
    "5'은 5번 탄소를 의미하고, 3'은 3번 탄소를 의미한다.  \n",
    "5'에는 인산기(P)가 붙어 있으며,  \n",
    "3'에는 수산기(OH)가 붙어 있다.  "
   ]
  },
  {
   "cell_type": "markdown",
   "metadata": {},
   "source": [
    "## DNA 복제 5'~3'의 방향\n",
    "DNA의 결합은 5'의 인산기와 3'의 수산기가 반은해 서로 결합한다.  \n",
    "이와 같이 DNA를 서로 결합되어 게놈이 구성되는데 이렇게 게놈을 일직선으로 나열하면 한쪽의 끝이 5'이 되고 반대면 끝이 3'이 되는 것이다.  \n",
    "실제로 인간의 게놈은 일직선이 아니라 히스톤 단백질을 중심으로 실타래 처럼 감싸진 매우 압축된 형태로 존재하게 된다.  \n",
    "![](https://www.sciencetimes.co.kr/wp-content/uploads/2014/04/0000052591_001.png)"
   ]
  }
 ],
 "metadata": {
  "kernelspec": {
   "display_name": "Python 3",
   "language": "python",
   "name": "python3"
  },
  "language_info": {
   "codemirror_mode": {
    "name": "ipython",
    "version": 3
   },
   "file_extension": ".py",
   "mimetype": "text/x-python",
   "name": "python",
   "nbconvert_exporter": "python",
   "pygments_lexer": "ipython3",
   "version": "3.7.1"
  }
 },
 "nbformat": 4,
 "nbformat_minor": 2
}
