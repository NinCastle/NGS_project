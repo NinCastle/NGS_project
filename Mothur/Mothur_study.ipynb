{
 "cells": [
  {
   "cell_type": "markdown",
   "metadata": {},
   "source": [
    "http://blog.naver.com/PostView.nhn?blogId=sedate_tree&logNo=220034360635&parentCategoryNo=&categoryNo=30&viewDate=&isShowPopularPosts=false&from=postView  \n",
    "https://metagenomics.tistory.com/entry/Mothur-%ED%8C%8C%EC%9D%B4%ED%94%84%EB%9D%BC%EC%9D%B8-pipeline  \n",
    "\n",
    "하기 내용은 상기 링크를 정리한것."
   ]
  },
  {
   "cell_type": "markdown",
   "metadata": {},
   "source": [
    "# Mothur\n"
   ]
  },
  {
   "cell_type": "markdown",
   "metadata": {},
   "source": [
    "## 제노타입(genotypes)을 베이스로 OTU를 작성하는 방법."
   ]
  },
  {
   "cell_type": "markdown",
   "metadata": {},
   "source": [
    "1. Ap E A plasmid Editor등의 소프트를 이용해 프라이머 배열을 제거하고 5'-3'방향으로 통일되게 포워드-리버스의 시퀀스 결과를 묶어준다.\n",
    "    * ApE A plasmid Editor의 사용법?\n",
    "    * 5'-3'는 **F프라이머 - 인서트 - R프라이머** 순으로 오게 만든다."
   ]
  },
  {
   "cell_type": "markdown",
   "metadata": {},
   "source": [
    "2. 모든 샘플을 하나의 FASTA파일로 작성한다.  \n",
    "메모장 예시)\n",
    "    * 예시)  \n",
    "      `> Sequence_Name1`  \n",
    "      gaatgacctatgatcc......   \n",
    "      `> Sequence_Name2`  \n",
    "      gaatggcctttgatcc......  \n",
    "      `> Sequence_Name3`  \n",
    "      taatgacctatgatcg......  \n",
    "    * 참고로 염기배열은 대/소문자를 구별하지 않는다.\n",
    "    * `'>'`부등호가 쓰인 행은 염기가 아닌 보통의 텍스트로 인지하며 간단한 메모로 표식을 남겨 둘 수 있다. (단, 영문 기입)\n",
    "    * 각 시퀀스 사이에 한줄을 띄어쓰기의 유무는 상관하지 않는다.\n",
    "    * 시퀀스를 등록하지 않더라도 데이터는 일관되게 5'-3'로 일단 정리하는 것이 나중에 편하다."
   ]
  },
  {
   "cell_type": "markdown",
   "metadata": {},
   "source": [
    "3. 저장 형식을 '모든파일'로 선택하여 파일이름을 명확하게 표기하도록한다.\n",
    "    * 예시)  \n",
    "    \"Project_Name_Data.fasta\"로 저장하여 fasta파일을 만든다. (이름에는 공백 불가능)"
   ]
  },
  {
   "cell_type": "markdown",
   "metadata": {},
   "source": [
    "4. 생성된 fasta 파일도 마찬가지로 프로젝트명을 정하여 폴더에 정리하는것이 차후에 관리하기 편하다.\n",
    "    * 예시)  \n",
    "    \"Project_Name_Data\"\n",
    "        * 이때 fasta 파일과 동명의 폴더 이름이여도 상관없다.\n",
    "        * 공백불가능"
   ]
  },
  {
   "cell_type": "markdown",
   "metadata": {},
   "source": [
    "5. MEGA에서 Alignment을 진행한다.(MEGA를 이용한 Alignment 현재 자료를 이용하였을때는 Mothur에서 진행)\n",
    "    * Align - Edit/Build Alignment - Creat a New Alignment - DNA를 선택하여 3번에 작성한 fasta파일을 열어준다.\n",
    "    * align DNA아이콘을 선택.\n",
    "    * Align DNA - OK - compute 버튼으로 align을 시작한다.\n",
    "    * fasta파일의 크기에 따라 해석시간이 달라지며,  \n",
    "    약 1300bp 시퀀스 $\\times$ 96샘플을 기준으로 3분 소요"
   ]
  },
  {
   "cell_type": "markdown",
   "metadata": {},
   "source": [
    "6. 결과를 Export한다.(5번처럼 Mothur에서 진행가능)\n",
    "    * 저장위치: Data - Export Alignment - FASTAformat 저장위치는 4번에서 지정한 폴더로 지정.  \n",
    "    파일명 예시)  \n",
    "    \"Project_Name_Data_Aligned\"\n",
    "    * 파일 저장후 MEGA에서는 .fas확장자를 기본으로 하는 MEGA전용 확장자 파일이 생성된다.  \n",
    "    때문에 저장후 직접 파일 확장자를 .fasta로 변경해줘야 한다."
   ]
  },
  {
   "cell_type": "markdown",
   "metadata": {},
   "source": [
    "7. Mothur.exe실행\n",
    "    * 시퀀스 생성  \n",
    "        `mothur > dist.seqs(fasta=MEGA에서 작성한파일을 drag&drop, output=lt)`    \n",
    "        방금 드래그앤 드롭했던 파일명뒤에 .phylip.dist 가 붙은 파일이 새로 생긴다.  \n",
    "        추가) phylip파일은 fasta와 같이 시퀀스를 담는 파일의 한 종류로 TextWrangler 등의 에디터로 열 수 있다."
   ]
  },
  {
   "cell_type": "markdown",
   "metadata": {},
   "source": [
    "8. 파일 READ  \n",
    "    mothur > read.dist(phylip=8에서 새로 생성된.phylip.dist파일을 drag&drop)"
   ]
  },
  {
   "cell_type": "markdown",
   "metadata": {},
   "source": [
    "9. 클러스터 생성  \n",
    "    * mothur > cluster(method=average)  \n",
    "    MEGA로 정리한 시퀀스를 Cluster 커맨더로 OTU 그룹을 만들 때 얼마나 엄격하게 비교 할지를 정도를 정할수 있으며 크게 세가지로 구분.  \n",
    "        > cluster(method=furthest)  \n",
    "         cluster(method=average)  \n",
    "         cluster(method=nearest)  \n",
    "      \n",
    "    furthest > average > nearest 순으로 오른쪽에 있을수록 엄격하게 시퀀스를 비교하기 때문에 OTU가 많이 생성된다. \n",
    "    * mothur의 경우 furthest가 기본값으로 사용된다.  \n",
    "    때문에 **cluster()**함수 사용시 furthest로 OTU를 작성한다.\n",
    "    * 최종적으로 아래와 같이 3개의 파일이 생성된다.  \n",
    "    > .phylip.an.sabund  \n",
    "    .phylip.an.rabund  \n",
    "    .phylip.an.list"
   ]
  },
  {
   "cell_type": "markdown",
   "metadata": {},
   "source": [
    "10. phylip.an.list의 파일이름을 변경하여 맨뒤에 .txt 확장자를 더한다.   \n",
    "변경된 파일을 엑셀로 열어 OTU의 시트를 확인가능하고,   \n",
    "label열의 0(unique), 0.01, 0.02, 0.03.... 등의 의미는 신뢰도를 나타낸다.  "
   ]
  },
  {
   "cell_type": "markdown",
   "metadata": {},
   "source": [
    "11. 해석  \n",
    "0은 100% 일치, 0.01은 99%일치를 나타낸다.  \n",
    "각 label열은 각 시퀀스를 의미하고 시퀀스 간에 1%정도의 차이(오차)가 있더라도 같은 염기서열로 치부한다.  \n",
    "따라서, 신뢰도를 높게 잡을수록 생성되는 OTU수는 많아지게 된다."
   ]
  },
  {
   "cell_type": "markdown",
   "metadata": {},
   "source": [
    "## Mothur 설치 및 프로세스 시도 \n",
    "https://metagenomics.tistory.com/entry/Mothur-%ED%8C%8C%EC%9D%B4%ED%94%84%EB%9D%BC%EC%9D%B8-pipeline 기반으로 작성"
   ]
  },
  {
   "cell_type": "markdown",
   "metadata": {},
   "source": [
    "### 메타지놈이란? 메타지노믹스란?\n",
    "https://genase23.wordpress.com/2016/11/02/%EB%A9%94%ED%83%80%EC%A7%80%EB%86%88-%EC%9D%B4%EB%9E%80-metagenome-%EB%A9%94%ED%83%80-%EC%A7%80%EB%85%B8%EB%AF%B9%EC%8A%A4%EB%9E%80-metagenomics/  \n",
    "> 메타지놈은 메타리는 말과 지놈이라는 말이 합쳐진 것으로 (meta + genome).  \n",
    "'더 높은', '초월함'을 나타내므로 지놈이 아주 많이 모여있는 것을 말한다.  \n",
    "유전자를 뜻하는 gene이라는 단어에 집단을 의미하는 -ome 이라는 접미사를 붙인것이 지놈이다.  \n",
    "따라서 \n",
    "> 16s DNA: 16s DNA만을 증폭하여 시퀀싱한 경우를 <span style = \"color:red\">메타지놈</span>이라고 부르는 경우가 있는데, 최근 연구자들 사이에서는 이런 경우를 따로 앰플리콘 시퀀싱(amplicon sequencing)이라고 불러야 한다는 의견이 지배적이다."
   ]
  },
  {
   "cell_type": "markdown",
   "metadata": {},
   "source": [
    "\n"
   ]
  },
  {
   "cell_type": "code",
   "execution_count": null,
   "metadata": {},
   "outputs": [],
   "source": []
  }
 ],
 "metadata": {
  "kernelspec": {
   "display_name": "Python 3",
   "language": "python",
   "name": "python3"
  },
  "language_info": {
   "codemirror_mode": {
    "name": "ipython",
    "version": 3
   },
   "file_extension": ".py",
   "mimetype": "text/x-python",
   "name": "python",
   "nbconvert_exporter": "python",
   "pygments_lexer": "ipython3",
   "version": "3.5.5"
  }
 },
 "nbformat": 4,
 "nbformat_minor": 2
}
