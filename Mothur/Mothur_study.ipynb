{
 "cells": [
  {
   "cell_type": "markdown",
   "metadata": {},
   "source": [
    "http://blog.naver.com/PostView.nhn?blogId=sedate_tree&logNo=220034360635&parentCategoryNo=&categoryNo=30&viewDate=&isShowPopularPosts=false&from=postView  \n",
    "https://metagenomics.tistory.com/entry/Mothur-%ED%8C%8C%EC%9D%B4%ED%94%84%EB%9D%BC%EC%9D%B8-pipeline  \n",
    "http://blog.naver.com/genetic2002/30034626247  \n",
    "[PCR이란?](http://compbio.korea.ac.kr/wiki/images/8/82/TakarPCRprotocol.pdf)  \n",
    "하기 내용은 상기 링크를 정리한것."
   ]
  },
  {
   "cell_type": "markdown",
   "metadata": {},
   "source": [
    "# Mothur\n"
   ]
  },
  {
   "cell_type": "markdown",
   "metadata": {},
   "source": [
    "## 제노타입(genotypes)을 베이스로 OTU를 작성하는 방법."
   ]
  },
  {
   "cell_type": "markdown",
   "metadata": {},
   "source": [
    "1. Ap E A plasmid Editor등의 소프트를 이용해 프라이머 배열을 제거하고 5'-3'방향으로 통일되게 포워드-리버스의 시퀀스 결과를 묶어준다.\n",
    "    * ApE A plasmid Editor의 사용법?\n",
    "    * 5'-3'는 **F프라이머 - 인서트 - R프라이머** 순으로 오게 만든다."
   ]
  },
  {
   "cell_type": "markdown",
   "metadata": {},
   "source": [
    "2. 모든 샘플을 하나의 FASTA파일로 작성한다.  \n",
    "메모장 예시)\n",
    "    * 예시)  \n",
    "      `> Sequence_Name1`  \n",
    "      gaatgacctatgatcc......   \n",
    "      `> Sequence_Name2`  \n",
    "      gaatggcctttgatcc......  \n",
    "      `> Sequence_Name3`  \n",
    "      taatgacctatgatcg......  \n",
    "    * 참고로 염기배열은 대/소문자를 구별하지 않는다.\n",
    "    * `'>'`부등호가 쓰인 행은 염기가 아닌 보통의 텍스트로 인지하며 간단한 메모로 표식을 남겨 둘 수 있다. (단, 영문 기입)\n",
    "    * 각 시퀀스 사이에 한줄을 띄어쓰기의 유무는 상관하지 않는다.\n",
    "    * 시퀀스를 등록하지 않더라도 데이터는 일관되게 5'-3'로 일단 정리하는 것이 나중에 편하다."
   ]
  },
  {
   "cell_type": "markdown",
   "metadata": {},
   "source": [
    "3. 저장 형식을 '모든파일'로 선택하여 파일이름을 명확하게 표기하도록한다.\n",
    "    * 예시)  \n",
    "    \"Project_Name_Data.fasta\"로 저장하여 fasta파일을 만든다. (이름에는 공백 불가능)"
   ]
  },
  {
   "cell_type": "markdown",
   "metadata": {},
   "source": [
    "4. 생성된 fasta 파일도 마찬가지로 프로젝트명을 정하여 폴더에 정리하는것이 차후에 관리하기 편하다.\n",
    "    * 예시)  \n",
    "    \"Project_Name_Data\"\n",
    "        * 이때 fasta 파일과 동명의 폴더 이름이여도 상관없다.\n",
    "        * 공백불가능"
   ]
  },
  {
   "cell_type": "markdown",
   "metadata": {},
   "source": [
    "5. MEGA에서 Alignment을 진행한다.(MEGA를 이용한 Alignment 현재 자료를 이용하였을때는 Mothur에서 진행)\n",
    "    * Align - Edit/Build Alignment - Creat a New Alignment - DNA를 선택하여 3번에 작성한 fasta파일을 열어준다.\n",
    "    * align DNA아이콘을 선택.\n",
    "    * Align DNA - OK - compute 버튼으로 align을 시작한다.\n",
    "    * fasta파일의 크기에 따라 해석시간이 달라지며,  \n",
    "    약 1300bp 시퀀스 $\\times$ 96샘플을 기준으로 3분 소요"
   ]
  },
  {
   "cell_type": "markdown",
   "metadata": {},
   "source": [
    "6. 결과를 Export한다.(5번처럼 Mothur에서 진행가능)\n",
    "    * 저장위치: Data - Export Alignment - FASTAformat 저장위치는 4번에서 지정한 폴더로 지정.  \n",
    "    파일명 예시)  \n",
    "    \"Project_Name_Data_Aligned\"\n",
    "    * 파일 저장후 MEGA에서는 .fas확장자를 기본으로 하는 MEGA전용 확장자 파일이 생성된다.  \n",
    "    때문에 저장후 직접 파일 확장자를 .fasta로 변경해줘야 한다."
   ]
  },
  {
   "cell_type": "markdown",
   "metadata": {},
   "source": [
    "7. Mothur.exe실행\n",
    "    * 시퀀스 생성  \n",
    "        `mothur > dist.seqs(fasta=MEGA에서 작성한파일을 drag&drop, output=lt)`    \n",
    "        방금 드래그앤 드롭했던 파일명뒤에 .phylip.dist 가 붙은 파일이 새로 생긴다.  \n",
    "        추가) phylip파일은 fasta와 같이 시퀀스를 담는 파일의 한 종류로 TextWrangler 등의 에디터로 열 수 있다."
   ]
  },
  {
   "cell_type": "markdown",
   "metadata": {},
   "source": [
    "8. 파일 READ  \n",
    "    mothur > read.dist(phylip=8에서 새로 생성된.phylip.dist파일을 drag&drop)"
   ]
  },
  {
   "cell_type": "markdown",
   "metadata": {},
   "source": [
    "9. 클러스터 생성  \n",
    "    * mothur > cluster(method=average)  \n",
    "    MEGA로 정리한 시퀀스를 Cluster 커맨더로 OTU 그룹을 만들 때 얼마나 엄격하게 비교 할지를 정도를 정할수 있으며 크게 세가지로 구분.  \n",
    "        > cluster(method=furthest)  \n",
    "         cluster(method=average)  \n",
    "         cluster(method=nearest)  \n",
    "      \n",
    "    furthest > average > nearest 순으로 오른쪽에 있을수록 엄격하게 시퀀스를 비교하기 때문에 OTU가 많이 생성된다. \n",
    "    * mothur의 경우 furthest가 기본값으로 사용된다.  \n",
    "    때문에 **cluster()**함수 사용시 furthest로 OTU를 작성한다.\n",
    "    * 최종적으로 아래와 같이 3개의 파일이 생성된다.  \n",
    "    > .phylip.an.sabund  \n",
    "    .phylip.an.rabund  \n",
    "    .phylip.an.list"
   ]
  },
  {
   "cell_type": "markdown",
   "metadata": {},
   "source": [
    "10. phylip.an.list의 파일이름을 변경하여 맨뒤에 .txt 확장자를 더한다.   \n",
    "변경된 파일을 엑셀로 열어 OTU의 시트를 확인가능하고,   \n",
    "label열의 0(unique), 0.01, 0.02, 0.03.... 등의 의미는 신뢰도를 나타낸다.  "
   ]
  },
  {
   "cell_type": "markdown",
   "metadata": {},
   "source": [
    "11. 해석  \n",
    "0은 100% 일치, 0.01은 99%일치를 나타낸다.  \n",
    "각 label열은 각 시퀀스를 의미하고 시퀀스 간에 1%정도의 차이(오차)가 있더라도 같은 염기서열로 치부한다.  \n",
    "따라서, 신뢰도를 높게 잡을수록 생성되는 OTU수는 많아지게 된다."
   ]
  },
  {
   "cell_type": "markdown",
   "metadata": {},
   "source": [
    "## Mothur 설치 및 프로세스 시도 \n",
    "https://metagenomics.tistory.com/entry/Mothur-%ED%8C%8C%EC%9D%B4%ED%94%84%EB%9D%BC%EC%9D%B8-pipeline 기반으로 작성  \n",
    "https://github.com/mothur/mothur/releases 링크를 따라 설치"
   ]
  },
  {
   "cell_type": "markdown",
   "metadata": {},
   "source": [
    "### Data Set\n",
    "참조:  \n",
    "* [Example data rom Schloss lab](https://www.mothur.org/w/images/d/d6/MiSeqSOPData.zip) that will be used with this tutorial. It was extracted from the [full dataset](http://www.mothur.org/MiSeqDevelopmentData/StabilityNoMetaG.tar)  \n",
    "  \n",
    "Schloss lab은 내장(gut)에 대한 연구를 진행해왔으며, 그 에 대한 대변 Data Set을 만들었다.  \n",
    "아래 테스트에서 사용할 Data set link\n",
    "> https://www.mothur.org/w/images/d/d6/MiSeqSOPData.zip  \n",
    "https://www.mothur.org/w/images/1/15/Silva.seed_v123.tgz  \n",
    "https://www.mothur.org/w/images/6/6c/Trainset14_032015.rdp.tgz "
   ]
  },
  {
   "cell_type": "markdown",
   "metadata": {},
   "source": [
    "## **개념정리**"
   ]
  },
  {
   "cell_type": "markdown",
   "metadata": {},
   "source": [
    "### 메타지놈이란? 메타지노믹스란?\n",
    "https://genase23.wordpress.com/2016/11/02/%EB%A9%94%ED%83%80%EC%A7%80%EB%86%88-%EC%9D%B4%EB%9E%80-metagenome-%EB%A9%94%ED%83%80-%EC%A7%80%EB%85%B8%EB%AF%B9%EC%8A%A4%EB%9E%80-metagenomics/  \n",
    "> 메타지놈은 메타리는 말과 지놈이라는 말이 합쳐진 것으로 (meta + genome).  \n",
    "'더 높은', '초월함'을 나타내므로 지놈이 아주 많이 모여있는 것을 말한다.  \n",
    "유전자를 뜻하는 gene이라는 단어에 집단을 의미하는 -ome 이라는 접미사를 붙인것이 지놈이다.  \n",
    "따라서 \n",
    "> 16s DNA: 16s DNA만을 증폭하여 시퀀싱한 경우를 <span style = \"color:red\">메타지놈</span>이라고 부르는 경우가 있는데, 최근 연구자들 사이에서는 이런 경우를 따로 앰플리콘 시퀀싱(amplicon sequencing)이라고 불러야 한다는 의견이 지배적이다."
   ]
  },
  {
   "cell_type": "markdown",
   "metadata": {},
   "source": [
    "### PCR이란?\n",
    "과거에는 박물관 시료, 건조 시료, 범죄 형장에서의 여러 증거물 그리고 화석 등과 같은 경우 DNA분리는 가능했지만 양이 너무 적거나 DNA가 너무 오래되어 연구에 사용할 수 없었다.  \n",
    "그러나 이것을 1983년 세투스(Cetus)회사에서 일하던 화학자인 멀리(K Mullis)가 지금은 중합효소연쇄반응(polymerase chain reaction, PCR)이라는 기술을 고안하므로써 바뀌게 되었다.  \n",
    "PCR은 얼마나 적은 양의 DNA가 존재하든 또 DNA질이 얼마나 나쁘진지 간에 DNA를 증폭시킬수 있다. 단지 필요한 것은 증폭하고자 하는 DNA 양 끝의 프리이머(primer)를 형성해야 하므로 필수 적이다. "
   ]
  },
  {
   "cell_type": "markdown",
   "metadata": {},
   "source": [
    "### Silva 라이브러리"
   ]
  },
  {
   "cell_type": "markdown",
   "metadata": {},
   "source": [
    "https://www.arb-silva.de/documentation/"
   ]
  },
  {
   "cell_type": "markdown",
   "metadata": {},
   "source": [
    "미생물 유전체학과 생물정보학 연구 그룹과 독일 Ribocom GmbH 학제 간 프로젝트이다. 리보솜  RNA \"Parc\" 데이터 베이스; 작은 데이터(16S/18S, SSU), 큰 데이터(23S, 28S, LSU)로 구성되어있다."
   ]
  },
  {
   "cell_type": "markdown",
   "metadata": {},
   "source": [
    "### OTU  \n",
    "OTU(Operation taxonomic unit)으로 분류 대상이 되는 생물체의 개체 또는 군을 말하며, 대부분의 의미는 종을 의미한다.  \n",
    "즉, Species richness를 구한다는 것은 OTU의 수(어떤 미생물이 얼마 만큼 있는지를 분석)를 구한다는 것이다.\n",
    "1. Sequencing read들을 Preprocessing : quality filter, barcode & adopter trimming\n",
    "2. Read clustering : CD-HIT와 같은 프로그램을 이용하여 동일 종의 유래 인식하고 clustering 한다.\n",
    "3. 통계적 방법으로 실제의 OTU를 추정한다.  \n",
    "4. 전체적인 종의 분포를 나타내는 diversity index를 구한다."
   ]
  },
  {
   "cell_type": "markdown",
   "metadata": {},
   "source": [
    "### 카운트 테이블이란?\n",
    "카운트 테이블은 짧은 DNA서열들이 전체중에 몇개 씩 들어 있는지를 세어놓은 테이블을 말한다.  "
   ]
  },
  {
   "cell_type": "markdown",
   "metadata": {},
   "source": [
    "### PCR(Polymerase Chain Reaction, 중합효소 연쇄 반응; DNA의 원하는 부분을 복제하고 증폭시키는 분자생물학적 기술)   \n",
    "http://blog.naver.com/genetic2002/30034626247  \n",
    "* 과거에는 박물과 시료, 건조 시료, 범죄 현장에서의 여러 증거물 그리고 화석 등과 같은 경우 DNA분리는 가능했지만 양이 너무 적거나 DNA가 너무 오래되어 연구에 사용할 수 없었다.\n",
    "* 그러나 이것을 1983년 세투스(Cetus)회사에서 일하던 화학자인 멀리(K Mullis)가 지금의 중합효소연쇄반응(polymerase chain reaction, PCR)이라는 기술을 고안 함으로써 바뀌게 되었다. \n",
    "* PCR은 얼마나 적은 양의 DNA가 존재하는지 또 DNA질이 얼마나 나쁘던지 간에 DNA를 증폭 시킬 수 있다. 필요한 것은 증폭하고 하자는 DNA양 끝의 프라이머(primer)를 형성해야 하는 것이 필수적이다."
   ]
  },
  {
   "cell_type": "markdown",
   "metadata": {},
   "source": [
    "### SOP란?\n",
    "SOP(Standard Operation Procedures): 표준 행동 절차로 일종의 일렬의 순서나 과정등으로 어떤 프로세스 혹은 작업을 처리하는데 품질을 보증할 수 있도록 단계 및 각 단계별로 하여야 할 행동을 정리 혹은 규정해 놓은 것을 말한다. "
   ]
  },
  {
   "cell_type": "markdown",
   "metadata": {},
   "source": [
    "### Overhang이란?\n",
    "DNA 분자의 말단에 있는 짝이 없는 염기서열을 말한다.  \n",
    "짝을 이루지 못한 뉴클레오타이드(nucleotide)는 3'또는 5' Overhang을 만든다.  \n",
    "Overhang 대부분은 팰린드로믹(palindromic)에 속한다.  \n",
    "\n",
    "**팬린드로믹(회문)**: 거꾸로 읽어도 제대로 읽은 것과 같은 의미를 지닌 것을 말한다.  \n",
    "https://ko.wikipedia.org/wiki/%ED%9A%8C%EB%AC%B8"
   ]
  },
  {
   "cell_type": "markdown",
   "metadata": {},
   "source": [
    "### 뉴클레오타이드(Nucleotide) \n",
    "https://ko.wikipedia.org/wiki/%EB%89%B4%ED%81%B4%EB%A0%88%EC%98%A4%ED%83%80%EC%9D%B4%EB%93%9C  \n",
    "https://www.scienceall.com/%EB%89%B4%ED%81%B4%EB%A0%88%EC%98%A4%ED%83%80%EC%9D%B4%EB%93%9C-nucleotide/?term_slug=  \n",
    "핵산 중 특히 DNA, RNA의 구성단위가 되는 저분자 화합물을 말하며, 뉴클레오타이드라고도 한다.  \n",
    "  \n",
    "DNA나 RNA를 구성하는 염기인 아데닌, 구아닌, 티민, 우라실, 시토신중 하나가 오탄당, 인산과 1:1:1의 비율로 만나 만드는 화합물을 말하는데, DNA나, RNA를 구성하는 염기와 오탄당이 만난것을 뉴클레오사이라고 하기 때문에, 이 뉴클레오사이드에 인산을 결합시킨 것을 말한다.  \n",
    "핵산의 구성 이외에도 뉴클레오타이드 3인산은 ATP가 되기 떄문에 대사적용도 한다.  "
   ]
  },
  {
   "cell_type": "markdown",
   "metadata": {},
   "source": [
    "### 디엔에이(DNA; Deoxyribonucleic acid)  \n",
    "유전에 직접 관여하는 물질로 핵산의 하나.  \n",
    "디옥시리보핵 인 이라고 한다.  \n",
    "  \n",
    "DNA구조는 사다리가 꼬인 모양인 2중 나선구조이며, 이러한 형태의 특징으로 DNA모델은 윗슨-크릭 모델 또는 2중 나선이라고도 한다.  \n",
    "각 가닥은 당(디옥시리보오스)과 인산이 교대로 연속적으로 결합되어 있고, 사다리의 가로대에 해당하는 부분은 염기가 수소결합에 의해 약하게 결합되어 있다.  \n",
    "염기는 아데닌(A)-구아닌(G)-시토닌(C)-티민(T)의 네 종류가 있다.  \n",
    "  \n",
    "이들은 분자구조상 A는 T와, G는 C와 짝을 짓는 상보관계에 있기 때문에 한쪽의 염기배열만 알면 다른쪽의 염기 배열도 자연히 파악된다.  \n",
    "이 때 생기는 각 염기쌍을 수소결합 각도 차이 때문에 DNA는 나선형을 이루게 된다.  "
   ]
  },
  {
   "cell_type": "markdown",
   "metadata": {},
   "source": [
    "### 알엔에이(RNA; Ribonucleic acid)  \n",
    "RNA는 Ribonucleic acid의 약칭으로 DNA와 함께 유전정보 전달에 관여하는 핵산의 일종이다.   \n",
    "RNA는 고분자 화합물로 여러 개의 분자가 사슬처럼 결합되어 있다.  \n",
    "유전정보에 따라서 필요한 단백질을 합성할 때, 직접적으로 작용하며, DNA의 핵속에서 전사과정에 의해 RNA를 생성한다.  \n",
    "* 전사과정: DNA가 저장한 정보를 RNA로 변화시키는 과정이다.  \n",
    "* DNA와 RNA의 차이: 염기종류와 사슬구조에서 나타나는데 DNA의 염기는 A, G, C, <span style=\"color:red\">T</span>이고 RNA는 A, G, C, <span style=\"color:red\">U</span>이다."
   ]
  },
  {
   "cell_type": "markdown",
   "metadata": {},
   "source": [
    "### 키메라(Chimera; 돌연변이 유전자, 예외적인 유전자)\n",
    "하나의 생물체 안에 유전 형질이 다른 세포가 함께 존재하는 경우 그것을 키메라라 한다.  "
   ]
  },
  {
   "cell_type": "markdown",
   "metadata": {},
   "source": [
    "### Taxonomy\n",
    "Taxonomy란 그리스어 tassein(분류하다)와 nomos(법 혹은 과학)란 말로 부터 유래했으며,  \n",
    "택소노미들(Taxonomies)은 taxa(단수로는 taxon)로 알려져 있는 택사노미 유닛(Taxonomic Units)으로 구성되어 있으며,  \n",
    "흔히 계층구조로 이루어져 부모-자식 관계(parent-child relationships)를 표현한다.  \n",
    "  \n",
    "유기체의 과학적 분류(알파 택사노미)에서는 유기체의 분류학을 지칭하는 경우가 많다.  \n",
    "  \n",
    "알파 택사노미에서, 시스템은 \"유기체\"(명시적으로 표현하지 않더라도 모든 생명체를 지칭한다)라는 루트를 포함하고 있고, 뒤이어 계, 문, 강, 목, 과, 종, 아족등이 이어진다. 때로는 곤충과 같이 복잡한 그룹을 철리하기 위해 아문, 아강, 아목 등등 40여개의 명칭이 삽입되기도 한다.  "
   ]
  },
  {
   "cell_type": "markdown",
   "metadata": {},
   "source": [
    "### 16S 앰플리콘(Amplicons)\n",
    "앰플리콘은 PCR product이다. 즉, PCR을 돌리고 얻은 DNA를 amplicon이라한다.  \n",
    "예전에는 많이 쓰이던 용어로 증폭산물이라 해석하면된다.  \n",
    "  \n",
    "* 16S 리보솜 RNA(16S ribosomal RNA, 16S rRNA): 원핵생물 리보솜의 30S 소단위체를 구성하고 rRNA로, 1,500 뉴클레오타이드 정도의 길이를 갖는다.  \n",
    "    * 기능:\n",
    "        * 30S 소단위체가 샤인-달가노 서열을 인식하고 결합할 수 있도록 한다. \n",
    "        * 번역개시인자3(IF3) 및 tRNA의 3' CCA 말단과 결합한다.  \n",
    "        * 두 리보솜 소단위체가 결합할 때 50S 소단위체의 23S 리보솜 RNA와 상호작용한다.  \n",
    "    * 응용:\n",
    "        * 16S 리보솜 RNA의 서열을 비교하여 원핵생물을 동정할 수 있다.  \n",
    "          이 RNA의 서열은 대부분 보존되어있는 한편 일부 구간에서는 포은 염기서열 다양성이 나타난다.  \n",
    "          특히 동종간에는 다양성이 거의 없는 반면에 타종간에는 다양성이 나타나므로 생물동정에 사용된다.  \n",
    "          배양이 불가능 하거나, 어려운 생물, 또는 보고된 적이 없는 생물의 동정 및 분류에 유용하게 사용된다.  "
   ]
  },
  {
   "cell_type": "markdown",
   "metadata": {},
   "source": [
    "### 진핵생물 또는 고세균 데이터\n",
    "* 진핵생물 : 진핵세포를 가진 생물을 말하며 모든 생명체 중에서 일종의 소수이다.\n",
    "* 진핵세포 : 세포내에 핵으로 대표되는 다양한 세포소기관을 가진 세포들을 통칭하는 이름이다.  \n",
    "* 고세균(고균) : 원핵생물의 하나였으나 세균과 다른 계를 이루고 있다는 것이 최근에 밝혀 졌다.  \n",
    "어떤 점은 세균과 닮아있고, 어떤 점은 진핵생물과 닮아있다.\n",
    "\n",
    "* 세균, 고세균, 진핵생물  \n",
    "![](https://upload.wikimedia.org/wikipedia/commons/thumb/7/70/Phylogenetic_tree.svg/520px-Phylogenetic_tree.svg.png)"
   ]
  },
  {
   "cell_type": "markdown",
   "metadata": {},
   "source": [
    "### MOCK(모의 공동체;Mock community)\n",
    "미생물 세포(microbial cells), 바이러스(viruses) 또는 핵산 분자(nucleic acid a)를 vitro내 에서 생성하여 microbiome로 구성된 sample 또는 그것으로 부터 분리 된 핵산(nuclei c acid)구성을 모의 실험 한것.  \n",
    "* 인 비트로(in vitro): 살아있는 생명체 내부가 아니라 시험관이나 페트리 디쉬와 같이 제어가 가능한 환경에서 수행되는 실험과정을 의미한다.  \n",
    "* 핵산(nucleic acid): 스위스의 생화학자 미셔에 의하여 발견된 물질로 세포핵 속의 물질을 알아내기 위해 환자의 고름에서 핵성분을 분석한 결과 인이 함류된 뉴클레오타이드(nucleotide)가 긴 사슬 모양으로 중합된 고분자 유기 화합물을 발견하여 뉴클레인 이라는 이름을 붙였지만,  \n",
    "뉴클레인이 강한 산성을 나타내기 때문에, 후에는 핵 내에 존재하는 산성 물질이란 뜻에서 핵산(nucleic acid)이라 불리게 된다.  \n",
    "핵산은 모든 생물의 세포핵 속에 공통적으로 존재하며 세포질에서도 미량의 핵산이 검출 되기도 한다.  \n",
    "핵산은 생물의 유전에 작용하는 인자로 DNA(desoxyribo nucleic acid)와 RNA(rinonucleic acid)의 두 종류가 있다.  \n"
   ]
  }
 ],
 "metadata": {
  "kernelspec": {
   "display_name": "Python 3",
   "language": "python",
   "name": "python3"
  },
  "language_info": {
   "codemirror_mode": {
    "name": "ipython",
    "version": 3
   },
   "file_extension": ".py",
   "mimetype": "text/x-python",
   "name": "python",
   "nbconvert_exporter": "python",
   "pygments_lexer": "ipython3",
   "version": "3.7.1"
  }
 },
 "nbformat": 4,
 "nbformat_minor": 2
}
