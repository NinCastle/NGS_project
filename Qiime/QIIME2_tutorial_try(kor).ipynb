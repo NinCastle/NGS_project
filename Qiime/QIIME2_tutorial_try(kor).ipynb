{
 "cells": [
  {
   "cell_type": "markdown",
   "metadata": {},
   "source": [
    "QIIME2(설치 Virtual Box)  \n",
    "https://docs.google.com/presentation/d/1P6udhJDnvC2eurthDtHubcg4e_yDTsbsUNnecMM_gU8/edit?usp=sharing  \n",
    "https://docs.qiime2.org/2019.1/"
   ]
  },
  {
   "cell_type": "markdown",
   "metadata": {},
   "source": [
    "# A.“Moving Pictures” tutorial\n",
    "https://docs.qiime2.org/2019.1/tutorials/moving-pictures/ \n",
    "이번 분석은 5개의 시점을 두고 두 사람의 신체에서 추출한 신체 4곳의 미생물에 대해서 분석을 진행할 것이다.  \n",
    "첫째로 antibiotic(항생물질)을 사용한다. \n",
    "  \n",
    "## sample metadata\n",
    "```\n",
    "$ mkdir Moving_Pictures  \n",
    "  \n",
    "$ cd Moving_Pictures  \n",
    "  \n",
    "(qiime2) nilm@RSPIRIT:~/qiime/qiime2/tutorial/Moving_Pictures$ wget -O \"sample-metadata.tsv\" \"http://data.qiime2.org/2019.1/tutorials/moving-pictures/sample_metadata.tsv\"\n",
    "```"
   ]
  },
  {
   "cell_type": "markdown",
   "metadata": {},
   "source": [
    "$$\n",
    "b_i = \\sqrt{\\frac{rs}{r+s}} log\\frac{g(x_r)}{g(x_s)}\n",
    "$$"
   ]
  },
  {
   "cell_type": "markdown",
   "metadata": {},
   "source": [
    "$$\n",
    "d(x, y) \\; = \\; V[ln \\frac{x}{y}]\n",
    "$$"
   ]
  },
  {
   "cell_type": "code",
   "execution_count": null,
   "metadata": {},
   "outputs": [],
   "source": []
  }
 ],
 "metadata": {
  "kernelspec": {
   "display_name": "Python 3",
   "language": "python",
   "name": "python3"
  },
  "language_info": {
   "codemirror_mode": {
    "name": "ipython",
    "version": 3
   },
   "file_extension": ".py",
   "mimetype": "text/x-python",
   "name": "python",
   "nbconvert_exporter": "python",
   "pygments_lexer": "ipython3",
   "version": "3.7.1"
  }
 },
 "nbformat": 4,
 "nbformat_minor": 2
}
