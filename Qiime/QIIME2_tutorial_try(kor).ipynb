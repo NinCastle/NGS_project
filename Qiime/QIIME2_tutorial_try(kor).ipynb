{
 "cells": [
  {
   "cell_type": "markdown",
   "metadata": {},
   "source": [
    "QIIME2(설치 Virtual Box)  \n",
    "https://docs.google.com/presentation/d/1P6udhJDnvC2eurthDtHubcg4e_yDTsbsUNnecMM_gU8/edit?usp=sharing  \n",
    "https://docs.qiime2.org/2019.1/ (tutorial list)  \n",
    "하기 내용은 상기 링크를 정리한 것이다.  "
   ]
  },
  {
   "cell_type": "markdown",
   "metadata": {},
   "source": [
    "# QIIME2 Tutorial\n",
    "\n",
    "## 설치 환경\n",
    "* Ubuntu 16.04\n",
    "* ANACONDA (가상환경, qiime2로 naming한다.) python 3.5.5(버전 3.6에서도 설치 확인)  \n",
    "  \n",
    "## QIIME2 tutorial list\n",
    "* “Moving Pictures” tutorial\n",
    "* Fecal microbiota transplant (FMT) study: an exercise\n",
    "* “Atacama soil microbiome” tutorial\n",
    "* Differential abundance analysis with gneiss\n",
    "* Importing data\n",
    "* Exporting data\n",
    "* Metadata in QIIME 2\n",
    "* Filtering data\n",
    "* Training feature classifiers with q2-feature-classifier\n",
    "* Evaluating and controlling data quality with q2-quality-control\n",
    "* Predicting sample metadata values with q2-sample-classifier\n",
    "* Performing longitudinal and paired sample comparisons with q2-longitudinal\n",
    "* Identifying and filtering chimeric feature sequences with q2-vsearch\n",
    "* Alternative methods of read-joining in QIIME 2\n",
    "* Clustering sequences into OTUs using q2-vsearch\n"
   ]
  },
  {
   "cell_type": "markdown",
   "metadata": {},
   "source": [
    "## “Moving Pictures” tutorial\n",
    "https://docs.qiime2.org/2019.1/tutorials/moving-pictures/   \n",
    "이번 분석은 5개의 시점을 두고 두 사람의 신체에서 추출한 신체 4곳의 미생물에 대해서 분석을 진행할 것이다.  \n",
    "첫째로 antibiotic(항생물질)을 사용한다. \n",
    "  \n",
    "## sample metadata\n",
    "> ```$ mkdir Moving_Pictures```  \n",
    "```$ cd Moving_Pictures```    \n",
    "```(qiime2) $ wget -O \"sample-metadata.tsv\" \"http://data.qiime2.org/2019.1/tutorials/moving-pictures/sample_metadata.tsv\"```"
   ]
  },
  {
   "cell_type": "markdown",
   "metadata": {},
   "source": [
    "### Obtaining and importing data  \n",
    "  \n",
    "> ```(qiime2) $ wget -O \"emp-single-end-sequences/barcodes.fastq.gz\" \"https://data.qiime2.org/2019.1/tutorials/moving-pictures/emp-single-end-sequences/barcodes.fastq.gz\"```  \n",
    "```(qiime2) $ wget -O \"emp-single-end-sequences/sequence.fastq.gz\" \"https://data.qiime2.org/2019.1/tutorials/moving-pictures/emp-single-end-sequences/sequences.fastq.gz\"```\n",
    "\n",
    "  \n",
    "semantic type QIIME 2는 EMPSingleEndSequence이다. \n",
    "EMPSingleEndSequence artifacts는 아직 sequence가 sample에 지정되지 않은  multiplexed한 sequence에 담겨있다.(따라서, sequence.fastq.gz 및 barcodes.fastq.gz 파일을 포함한다. barcodes.fastq.gz에는 sequence.fastq.gz의 각 sequence에 barcode가 들어있다.)\n",
    ">```(qiime2) $ qiime tools import --type EMPSingleEndSequences --input-path emp-single-end-sequences/ --output-path emp-single-end-sequences.qza```"
   ]
  },
  {
   "cell_type": "markdown",
   "metadata": {},
   "source": [
    "### Demultiplexing sequences\n",
    "demultiplex sequence는 각 sample 별로 관련된 barcode sequence를 아는 것이 필요하다. \n",
    "이 정보에는 sample metadata file이 담겨있다. \n",
    "command를 따라하면 sequences(demux emp-single command는 sequence에  barcode한 Earth Microbiome Project protocol 참조한다.)를 demultiplex할 수 있다.\n",
    "demultiplexed sequences의 demux.qza를 QIIME2로 생성할 수 있다.  \n",
    "  \n",
    "> ```(qiime2) $ qiime demux emp-single \\```  \n",
    "```--i-seqs emp-single-end-sequences.qza \\```  \n",
    "```--m-barcodes-file sample-metadata.tsv \\```  \n",
    "```--m-barcodes-column BarcodeSequence \\```  \n",
    "```--o-per-sample-sequences demux.qza```\n",
    "  \n",
    "Demultiplexing 이후 생성된 파일을 이용하여 demultiplexing summary results를 생성한다.\n",
    "\n",
    "> ```(qiime2) $ qiime demux summarize --i-data demux.qza --o-visualization demux.qzv```"
   ]
  },
  {
   "cell_type": "markdown",
   "metadata": {},
   "source": [
    "* Visualization \n",
    "\n",
    "> ```(qiime2) $ qiime tools view demux.qzv```  \n",
    "  \n",
    "or https://view.qiime2.org/ 접속하여 파일을 드래그앤 드랍한다.  \n",
    "\n",
    "예제) : https://view.qiime2.org/visualization/?type=html&src=https%3A%2F%2Fdocs.qiime2.org%2F2019.1%2Fdata%2Ftutorials%2Fmoving-pictures%2Fdemux.qzv \n",
    "\n"
   ]
  },
  {
   "cell_type": "markdown",
   "metadata": {},
   "source": [
    "### Sequence quality control and feature table construction\n",
    "  \n",
    "QIIME 2 plugins은 몇가지(DADA2, Deblur, basic quality-score-based filtering) 질좋은 control method 이용할 수 있다.  \n",
    "Tutorial에서는 DADA2와 Deblur를 사용하며 원하는 것으로 변경하면서 사용해도 무방하다.\n"
   ]
  },
  {
   "cell_type": "markdown",
   "metadata": {},
   "source": [
    "#### Option 1: DADA2\n",
    "DADA2는 Illumina amplicon sequence data를 detecting하고 correcting하는 pipeline이다.  \n",
    "`q2-dada2` plugin을 통하여 사용이 가능하며, quality control process는 sequencing data에서 식별된 phiX판독 값을 추가적으로 filter한다.  \n",
    "`*data2 denoise-single` method는 quality filtering에서 사용할 두가지 parameter를 요구한다.  \n",
    "`--p-trim-left m`의 m에 시작하는 각 sequence 값을 넣고, `--p-trunc-len n`의 n에는 각 시퀀스를 자를 위치에 넣는다.   \n",
    "위와 같이 pipeline을 통과하면 low quality sequences가 제거된다.\n",
    "\n"
   ]
  },
  {
   "cell_type": "markdown",
   "metadata": {},
   "source": [
    "위와 같은 이유 때문에 m, n 값을 찾기 위해 이전단계에서 만들어진 `demux.qzv`파일에서 생성된 qiime demux summarize의 Interactive Quality Plot tab을 확인해야한다.  \n",
    "`demux.qzv`의 quality plots을 살펴보면 초기 sequence 에서는 quality가 좋은 상황을 볼 수 있으면 sequence가 후반으로 갈수록 quality가 떨어지는 것을 확인 할 수 있다.  \n",
    "때문에 넉넉히 120 position  drop off할 것이다.  \n",
    "최대 10분까지 걸리며 모든 과정중에 제일 오래 걸린다.\n",
    "\n",
    "> ```(qiime2) $ qiime dada2 denoise-single \\ ```  \n",
    "```--i-demultiplexed-seqs demux.qza \\```   \n",
    "```--p-trim-left 0 \\```  \n",
    "```--p-trunc-len 120 \\```  \n",
    "```--o-representative-sequences rep-seqs-data2.qza \\```   \n",
    "```--o-table table-data2.qza \\```  \n",
    "```--o-denoising-stats stats-data2.qza```"
   ]
  },
  {
   "cell_type": "markdown",
   "metadata": {},
   "source": [
    "#### dada2 Output visualization\n",
    "> ```(qiime2) $ qiime metadata tabulate \\```  \n",
    "```--m-input-file stats-data2.qza \\```  \n",
    "```--o-visualization stats-dada2.qzv```\n",
    "\n",
    "dada2로 Tutorial을 지속 진행한다면, 아래와 같이 변환해준다.  \n",
    "`$ mv rep-seqs-data2.qza rep-seqs.qza`   \n",
    "`$ mv table-data2.qza table.qza`\n",
    "\n"
   ]
  },
  {
   "cell_type": "markdown",
   "metadata": {},
   "source": [
    "#### Option 2 : Deblur"
   ]
  },
  {
   "cell_type": "markdown",
   "metadata": {},
   "source": [
    "Deblur는 sequence error profile를 이용하여 읽은 erroneous sequence와 true biological sequence를 사용해 high quality sequence variant data를 생성한다.  \n",
    "  \n",
    "data 생성시에는 두 단계로 적용된다.\n",
    "1. quality scores를 적용한 initial(처음의) quality filtering process를 기반으로 한다.  \n",
    "Deblur는 다음의 [method](https://www.nature.com/articles/nmeth.2276)를 quality filtering approach로 이행한다.\n",
    "> `(qiime2) $ qiime quality-filter q-score \\`  \n",
    "```--i-demux demux.qza \\```  \n",
    "```--o-filtered-sequences demux-filtered.qza \\```  \n",
    "```--o-filter-stats demux-filter-stats.qza```  \n",
    "2. ```qiime deblur denoise-16S method``` 를 사용한다.  \n",
    "다음 method는 ```-p-trim-length n```에서 사용할 parameter(quality filtering을 위한)가 필요하다.  \n",
    "이때 `n`에는 축소한 sequence가 들어가야한다.  \n",
    "일반적으로 Deblur를 사용하는 사용자들에게 추천하는 setting은 median quality scroe로 시작하고 drop이 적은 length를 넣는것이다.  \n",
    "data에서 보듯이 115에서 130의 sequence position range를 제한한다.(QIIME 개발자의 주관적인 관점이므로 축소하거나 늘려도 상관없음)  \n",
    "추천사항에서 예외적인 상황은 multiple sequencing을 실행하는 상황이다.  \n",
    "위와 같은 meta-analysis에서 study-specific가 편향 적용되는 것으 피하기 위해 모두 같은 length로 읽는 것이 critical하다."
   ]
  },
  {
   "cell_type": "markdown",
   "metadata": {},
   "source": [
    "이미 qiime dada2 denosie-single에서 trim 120 lenght를 사용하였으므로, 120 lenght로 quality plots을 준다.  \n",
    "> `(qiime2) $ qiime deblur denoise-16S \\`  \n",
    "`--i-demultiplexed-seqs demux-filtered.qza \\`  \n",
    "`--p-trim-length 120 \\`  \n",
    "`--o-representative-sequences rep-seqs-deblur.qza \\`  \n",
    "`--o-table table-deblur.qza \\`  \n",
    "`--p-sample-stats \\`  \n",
    "`--o-stats deblur-stats.qza`  \n",
    "  \n",
    "<이름변환>\n",
    ">`$ mv rep-seqs-deblur.qza rep-seqs2.qza`  \n",
    "`$ mv table-deblur.qza table2.qza`  "
   ]
  },
  {
   "cell_type": "markdown",
   "metadata": {},
   "source": [
    "### FeatureTable and FeatureData summaries  \n",
    "quality filtering단계가 끝난 후, 결과를 표시해야한다.  \n",
    "아래 command를 따라서 visual summaries를 진행한다.   \n",
    "Visual summaries는 각 sample과 관련된 많은 히스토그램, 요약 통계를 이용한 많은 정보를 제공할 것이다.   \n",
    "feature-table tabulate-seqs 명령어는 각 feature Id의 sequense를 제공할것이며,   \n",
    "또한 반대의 NCBI nt database 쉬운 sequence의 BLAST 도 제공할 것이다.(해석에 대한 수정필요..)  \n",
    "다음의 visualization은 tutorial 중에서도 매우 유용하게 사용될 것이다.\n",
    "> `(qiime2) $ qiime feature-table summarize `  \n",
    "`--i-table table2.qza \\`  \n",
    "`--o-visualization table2.qzv \\`  \n",
    "`--m-sample-metadata-file sample-metadata.tsv`  \n",
    "  \n",
    "result link:  \n",
    "https://view.qiime2.org/?src=https%3A%2F%2Fdocs.qiime2.org%2F2019.1%2Fdata%2Ftutorials%2Fmoving-pictures%2Ftable.qzv  "
   ]
  },
  {
   "cell_type": "markdown",
   "metadata": {},
   "source": [
    "> `(qiime2) $ qiime feature-table tabulate-seqs \\`  \n",
    "`--i-data rep-seqs2.qza \\`  \n",
    "`--o-visualization rep-seqs2.qzv`  \n",
    "\n",
    "result link:  \n",
    "https://view.qiime2.org/visualization/?type=html&src=https%3A%2F%2Fdocs.qiime2.org%2F2019.1%2Fdata%2Ftutorials%2Fmoving-pictures%2Frep-seqs.qzv"
   ]
  },
  {
   "cell_type": "markdown",
   "metadata": {},
   "source": [
    "### Generate a tree for phylogenetic diversity analyses  \n",
    "QIIME은 Faith’s Phylogenetic Diversity와 weighted 그리고 unweighted UniFrac를 포함한 phylogenetic diversity metric에 대한 몇가지를 지원한다.  \n",
    "샘플당 feature 수 이외에, 측정기준 feature들에 대한 관계를 형성하는 rooted phylogenetic tree의 metrics가 필요하다.  \n",
    "정보는 `Phylogeny[Rooted]`에 저장된다."
   ]
  },
  {
   "cell_type": "markdown",
   "metadata": {},
   "source": [
    "q2-phylogeny plugin으로 부터 나온 `align-to-tree-mafft-fastree`의 pipeline을 이용하여 plugin을 생성한다.  \n",
    "첫번째로 pipeline은 QIIME artifact 부터 생성한 multiple sequence로 설정된 mafft program을 사용한다.  \n",
    "다음은 pipeline filter(or masks)을 이용하여 highly variable 위치를 제거한다.  \n",
    "이후 position들의 phylogenetic tree 부터 생성된 noise을 일반적으로 고려한다.(수정 필요..)  \n",
    "> `(qiime2) $ qiime phylogeny align-to-tree-mafft-fasttree \\`  \n",
    "`--i-sequences rep-seqs2.qza \\`  \n",
    "`--o-alignment aligned-rep-seqs.qza \\`  \n",
    "`--o-masked-alignment masked-aligned-rep-seqs.qza \\`  \n",
    "`--o-tree unrooted-tree.qza `\n",
    "\n"
   ]
  },
  {
   "cell_type": "markdown",
   "metadata": {},
   "source": [
    "### Alpha and beta diversity analysis\n",
    "QIIME2는 `q2-diversity plugin`를 이용하여 diversity analysis를 진행할 수 있다.   \n",
    "plugin은 alpha와 beta diversity metric를 계산을 지원하며 통계적으로 test하는 것도 지원하고 visualization과 상호작용 하는 것도 지원한다.  \n",
    "처음으로는 `core-metrics-phylogenetic` method를 이용해야한다.  \n",
    "Alpha와 Beta diversity의 analysis방법의 default는 다음과 같다.  \n",
    "* Shannon’s diversity index (a quantitative measure of community richness)\n",
    "* Observed OTUs (a qualitative measure of community richness)\n",
    "* Faith’s Phylogenetic Diversity (a qualitative measure of community richness that incorporates phylogenetic relationships between the features)\n",
    "* Evenness (or Pielou’s Evenness; a measure of community evenness)\n",
    "* Jaccard distance (a qualitative measure of community dissimilarity)\n",
    "* Bray-Curtis distance (a quantitative measure of community dissimilarity)\n",
    "* unweighted UniFrac distance (a qualitative measure of community dissimilarity that incorporates phylogenetic relationships between the features)\n",
    "* weighted UniFrac distance (a quantitative measure of community dissimilarity that incorporates phylogenetic relationships between the features)  \n",
    "  \n",
    "중요한 parameter는 --p-sampling-depth 를 이용하는 것이 필요하다.  \n",
    "각 sampling 짝수로 depth에 적용해야한다.  \n",
    "왜냐하면 대부분의 diversity metrics는 다른 sample에 다른 sampling depth에 민감하기 때문이다.  \n",
    "이번 script는 각 제공된 sample count를 매개 변수로 제공된 값으로 임의적으로 subsample한다.  \n",
    "> `(qiime2) $ qiime diversity core-metrics-phylogenetic \\`  \n",
    "`--i-phylogeny rooted-tree.qza \\`  \n",
    "`--i-table table.qza \\`  \n",
    "`--p-sampling-depth 1109 \\`  \n",
    "`--m-metadata-file sample-metadata.tsv \\`  \n",
    "`--output-dir core-metrics-results`  \n",
    "  \n",
    "#### Output visualization\n",
    "* core-metrics-results/unweighted_unifrac_emperor.qzv :\n",
    "    * [link](https://view.qiime2.org/visualization/?type=html&src=https%3A%2F%2Fdocs.qiime2.org%2F2019.1%2Fdata%2Ftutorials%2Fmoving-pictures%2Fcore-metrics-results%2Funweighted_unifrac_emperor.qzv)\n",
    "* core-metrics-results/jaccard_emperor.qzv :\n",
    "    * [link](https://view.qiime2.org/?src=https%3A%2F%2Fdocs.qiime2.org%2F2019.1%2Fdata%2Ftutorials%2Fmoving-pictures%2Fcore-metrics-results%2Fjaccard_emperor.qzv)\n",
    "* core-metrics-results/bray_curtis_emperor.qzv : \n",
    "    * [link](https://view.qiime2.org/?src=https%3A%2F%2Fdocs.qiime2.org%2F2019.1%2Fdata%2Ftutorials%2Fmoving-pictures%2Fcore-metrics-results%2Fbray_curtis_emperor.qzv)\n",
    "* core-metrics-results/weighted_unifrac_emperor.qzv : \n",
    "    * [link](https://view.qiime2.org/?src=https%3A%2F%2Fdocs.qiime2.org%2F2019.1%2Fdata%2Ftutorials%2Fmoving-pictures%2Fcore-metrics-results%2Fweighted_unifrac_emperor.qzv)\n"
   ]
  },
  {
   "cell_type": "markdown",
   "metadata": {},
   "source": [
    "Diversity metrics를 계산 후 샘플들을의 microbial composition 시작해야한다.  \n",
    "sample metadata의 대한 파일은 [링크](https://docs.google.com/spreadsheets/d/1yFL_Mwh7b5LE5vW06KooZFB_cjoEJEXGFwhos6X7jns/edit#gid=0)와 같다.  \n",
    "* alpha-diversity(faith-pd-group-significance)\n",
    "> `(qiime2) $ qiime diversity alpha-group-significance \\`  \n",
    "`--i-alpha-diversity core-metrics-results/faith_pd_vector.qza \\`  \n",
    "`--m-metadata-file sample-metadata.tsv \\`   \n",
    "`--o-visualization core-metrics-results/faith-pd-group-significance.qzv`\n",
    "* alpha-diversity(evenness-pd-group-significance)\n",
    "> `(qiime2) $ qiime diversity alpha-group-significance \\`  \n",
    "`--i-alpha-diversity core-metrics-results/evenness_vector.qza \\`  \n",
    "`--m-metadata-file sample-metadata.tsv \\`  \n",
    "`--o-visualization core-metrics-results/evenness-group-significance.qzv`  \n",
    "  \n",
    "  \n",
    "* core-metrics-results/faith-pd-group-significance.qzv:\n",
    "    * [link](https://view.qiime2.org/visualization/?type=html&src=https%3A%2F%2Fdocs.qiime2.org%2F2019.1%2Fdata%2Ftutorials%2Fmoving-pictures%2Fcore-metrics-results%2Ffaith-pd-group-significance.qzv)\n",
    "* core-metrics-results/evenness-group-significance.qzv:\n",
    "    * [link](https://view.qiime2.org/visualization/?type=html&src=https%3A%2F%2Fdocs.qiime2.org%2F2019.1%2Fdata%2Ftutorials%2Fmoving-pictures%2Fcore-metrics-results%2Fevenness-group-significance.qzv)"
   ]
  },
  {
   "cell_type": "markdown",
   "metadata": {},
   "source": [
    "다음은 beta-diversity에 대한 코드이다.  \n",
    "input distance로 사용할 matrix는 unweighted UniFrac distances이며 두개의 샘플코드로 이루어졌다.\n"
   ]
  },
  {
   "cell_type": "markdown",
   "metadata": {},
   "source": [
    "* beta-diversity(unweighted-unifrac-body-site-significance)\n",
    "> `(qiime2) $ qiime diversity beta-group-significance \\`  \n",
    "  `--i-distance-matrix core-metrics-results/unweighted_unifrac_distance_matrix.qza \\`  \n",
    "  `--m-metadata-file sample-metadata.tsv \\`  \n",
    "  `--m-metadata-column BodySite \\`  \n",
    "  `--o-visualization core-metrics-results/unweighted-unifrac-body-site-significance.qzv \\`  \n",
    "  `--p-pairwise`  \n",
    "* beta-diversity(unweighted-unifrac-subject-group-significance)\n",
    "> `(qiime2) $ qiime diversity beta-group-significance \\`  \n",
    "  `--i-distance-matrix core-metrics-results/unweighted_unifrac_distance_matrix.qza \\`  \n",
    "  `--m-metadata-file sample-metadata.tsv \\`  \n",
    "  `--m-metadata-column Subject \\`  \n",
    "  `--o-visualization core-metrics-results/unweighted-unifrac-subject-group-significance.qzv \\`  \n",
    "  `--p-pairwise`\n",
    "* core-metrics-results/unweighted-unifrac-body-site-significance.qzv:\n",
    "    * [link](https://view.qiime2.org/?src=https%3A%2F%2Fdocs.qiime2.org%2F2019.1%2Fdata%2Ftutorials%2Fmoving-pictures%2Fcore-metrics-results%2Funweighted-unifrac-body-site-significance.qzv)\n",
    "* core-metrics-results/unweighted-unifrac-subject-group-significance.qzv:\n",
    "    * [link](https://view.qiime2.org/?src=https%3A%2F%2Fdocs.qiime2.org%2F2019.1%2Fdata%2Ftutorials%2Fmoving-pictures%2Fcore-metrics-results%2Funweighted-unifrac-subject-group-significance.qzv)  \n",
    "  \n",
    "Again, none of the continuous sample metadata that we have for this data set are correlated with sample composition, so we won’t test for those associations here. If you’re interested in performing those tests, you can use the qiime metadata distance-matrix in combination with qiime diversity mantel and qiime diversity bioenv commands."
   ]
  },
  {
   "cell_type": "markdown",
   "metadata": {},
   "source": [
    "### Emperor\n",
    "마지막은 microbial community composition approach에 대한 것이다.  \n",
    "Emperor tool을 이용하여 PCoA(principal coordinates) plot을 탐색 할 수 있다.  \n",
    "  \n",
    "While our core-metrics-phylogenetic command did already generate some Emperor plots, we want to pass an optional parameter, --p-custom-axes, which is very useful for exploring time series data. The PCoA results that were used in core-metrics-phylogeny are also available, making it easy to generate new visualizations with Emperor. We will generate Emperor plots for unweighted UniFrac and Bray-Curtis so that the resulting plot will contain axes for principal coordinate 1, principal coordinate 2, and days since the experiment start. We will use that last axis to explore how these samples changed over time.  \n",
    "> `(qiime2) $ qiime emperor plot \\`  \n",
    "  `--i-pcoa core-metrics-results/unweighted_unifrac_pcoa_results.qza \\`  \n",
    "  `--m-metadata-file sample-metadata.tsv \\`  \n",
    "  `--p-custom-axes DaysSinceExperimentStart \\`  \n",
    "  `--o-visualization core-metrics-results/unweighted-unifrac-emperor-DaysSinceExperimentStart.qzv`  \n",
    "  \n",
    "  \n",
    "> `(qiime2) qiime emperor plot \\`  \n",
    "  `--i-pcoa core-metrics-results/bray_curtis_pcoa_results.qza \\`  \n",
    "  `--m-metadata-file sample-metadata.tsv \\`  \n",
    "  `--p-custom-axes DaysSinceExperimentStart \\`  \n",
    "  `--o-visualization core-metrics-results/bray-curtis-emperor-DaysSinceExperimentStart.qzv`  \n",
    "  \n",
    "* core-metrics-results/unweighted-unifrac-emperor-DaysSinceExperimentStart.qzv:\n",
    "    * [link](https://view.qiime2.org/?src=https%3A%2F%2Fdocs.qiime2.org%2F2019.1%2Fdata%2Ftutorials%2Fmoving-pictures%2Fcore-metrics-results%2Funweighted-unifrac-emperor-DaysSinceExperimentStart.qzv)\n",
    "* core-metrics-results/bray-curtis-emperor-DaysSinceExperimentStart.qzv:\n",
    "    * [link](https://view.qiime2.org/?src=https%3A%2F%2Fdocs.qiime2.org%2F2019.1%2Fdata%2Ftutorials%2Fmoving-pictures%2Fcore-metrics-results%2Fbray-curtis-emperor-DaysSinceExperimentStart.qzv)\n",
    "    \n",
    "### Alpha rarefaction plotting\n",
    "QIIME의 alpha-diversity를 이용하여 rarefaction visualizer를 해보도록 한다.\n",
    "> `(qiime2) $ qiime diversity alpha-rarefaction \\`  \n",
    "`--i-table table.qza \\`  \n",
    "`--i-phylogeny rooted-tree.qza \\`  \n",
    "`--p-max-depth 4000 \\`  \n",
    "`--m-metadata-file sample-metadata.tsv \\`  \n",
    "`--o-visualization alpha-rarefaction.qzv`  \n",
    "  \n",
    "* alpha-rarefaction.qzv:\n",
    "    * [link](https://view.qiime2.org/?src=https%3A%2F%2Fdocs.qiime2.org%2F2019.1%2Fdata%2Ftutorials%2Fmoving-pictures%2Falpha-rarefaction.qzv)"
   ]
  },
  {
   "cell_type": "markdown",
   "metadata": {},
   "source": [
    "### Taxonomic analysis\n",
    "다음은 taxonomic composition 에 대한 섹션이다.  \n",
    "처음에는 QIIME에 taxonomy sequences를 지정하는 것이다.  \n",
    "이때 pre-trained Naive Bayes classifier와 q2-feature-classifier plugin을 사용할 것이다.  \n",
    "classifier 학습은 Greengenes 13_8 99% OTUs로 할 것이다.  \n",
    "> `$ wget \\`  \n",
    "  `-O \"gg-13-8-99-515-806-nb-classifier.qza\" \\`  \n",
    "  `\"https://data.qiime2.org/2019.1/common/gg-13-8-99-515-806-nb-classifier.qza\"`  \n",
    "`$ pip install scikit-learn==0.20.2`\n",
    "\n",
    "> `(qiime2) $ qiime feature-classifier classify-sklearn \\`  \n",
    "  `--i-classifier gg-13-8-99-515-806-nb-classifier.qza \\`  \n",
    "  `--i-reads rep-seqs.qza \\`  \n",
    "  `--o-classification taxonomy.qza`  \n",
    "  \n",
    "> `(qiime2) $ qiime metadata tabulate \\`  \n",
    "  `--m-input-file taxonomy.qza \\`  \n",
    "  `--o-visualization taxonomy.qzv`\n",
    "  \n",
    "* taxonomy.qzv:\n",
    "    * [link](https://view.qiime2.org/?src=https%3A%2F%2Fdocs.qiime2.org%2F2019.1%2Fdata%2Ftutorials%2Fmoving-pictures%2Ftaxonomy.qzv)  \n",
    "    \n",
    "Next, we can view the taxonomic composition of our samples with interactive bar plots. Generate those plots with the following command and then open the visualization.  \n",
    "> `(qiime2) $ qiime taxa barplot \\`  \n",
    "  `--i-table table.qza \\`  \n",
    "  `--i-taxonomy taxonomy.qza \\`  \n",
    "  `--m-metadata-file sample-metadata.tsv \\`  \n",
    "  `--o-visualization taxa-bar-plots.qzv`  \n",
    "  \n",
    "* taxa-bar-plots.qzv:\n",
    "    * [link](https://view.qiime2.org/?src=https%3A%2F%2Fdocs.qiime2.org%2F2019.1%2Fdata%2Ftutorials%2Fmoving-pictures%2Ftaxa-bar-plots.qzv)  "
   ]
  },
  {
   "cell_type": "markdown",
   "metadata": {},
   "source": [
    "----"
   ]
  },
  {
   "cell_type": "markdown",
   "metadata": {},
   "source": [
    "## Fecal microbiota tansplant(FMT) study: an exercise"
   ]
  },
  {
   "cell_type": "markdown",
   "metadata": {},
   "source": [
    "Tutorial을 위하여 data는 [Fecal Microbiome Transplant study](https://microbiomejournal.biomedcentral.com/articles/10.1186/s40168-016-0225-7)에서 받아왔다.  \n",
    "FMT는 autism(자폐증)과 gastrointestinal disorders(위장장애)를 가진 18세 이하 아이들의 변을 Autism Diagnostic Interview-Revised(ADI-R: 위장 증상 평가 척도)및,   \n",
    "Gastrointestinal Symptom Rating Scale(GSRS)로 microbiota의 움직임과 증상으로 위장 증상을 완화하기 위해 측정한 데이터이다.  \n",
    "  \n",
    "The Parent Global Impressions-III(PGI-III)과 Childhood Autism Rating Scale(CARS)를 포함한 위장 심각도에 대한 몇가지 측정 기준으로 위장 미생물의 18주 동안 변화를 통해 심각도를 점수화한다.  \n",
    "microbiome은 배설물 면봉 sample(화장실에서 사용된 휴지로 부터 수집됨)과 적은 횟수의 배설물 sample을 한주 동안 모은 것으로 추적되었다.  \n",
    "  \n",
    "전체 연구에서, 실험의 안정성을 위해 18명 환자는 치료를 받았고 20명의 환자는 대조군으로 남았다.  \n",
    "대조군은 치료 받지 않았으나 gut microbiom의 변화를 확인하기위해  주기적을로 monitor하였다.  \n",
    "연구에서 치료 하는동안에는 이식된 The fecal material sequenced 분석되었다.  \n",
    "  \n",
    "The tutorial dataset은 data의 subsample로 이번 학습에서 생성되었다.  \n",
    "각 기 다른 5개의 치료 방법으로 치료된 5명의 데이터가 포함되어 있다.  \n",
    "6, 16은 각 사람의 stool과 fecal swab가 포함된 sample이다.  \n",
    "이 sample은 FMT치료 이전과 이후의 sample이다.  \n",
    "5개 sample은 fecal에 transplant한 측정값을 포함하고 있다.  \n",
    "  \n",
    "Moving Pictures tutorial과 같이 DADA2를 사용하여 initial quality control을 진행하였고 FeatureTable과 FeatureData object를 생성하였다.   \n",
    "그러나 DADA2 denoising을 진행할때 single sequencing만 진행하였다.  \n",
    "때문에 각 sequencing을 실행할때 기본적으로 다음의 결과를 병합해야한다.  \n",
    "  \n",
    "### Obtain data file\n",
    "> `(qiime2) $ mkdir fmt-tutorial`  \n",
    "`(qiime2) $ cd fmt-tutorial/`  \n",
    "`(qiime2) $ wget \\`  \n",
    "  `-O \"sample-metadata.tsv\" \\`  \n",
    "  `\"https://data.qiime2.org/2019.1/tutorials/fmt/sample_metadata.tsv\"`  \n",
    "  \n",
    "다음으로 필요한 것은 demultiplexed analysis를 진행할 sequences데이터를 받아야 한다.  \n",
    "두개의 demultiplexed sequences set을 받아야하며, 각 sequence를 동일하게 실행해야 한다.  \n",
    "\n",
    "이번 tutorial에서는 complete sequence data의 small subsample이용하여 빠르게 실행 할 수 있다.  \n",
    "현재 진행하는 test는 10% subsample data를 이용한다.  \n",
    "  \n",
    "> `(qiime2) $ wget -O \"fmt-tutorial-demux-1.qza\" \"https://data.qiime2.org/2019.1/tutorials/fmt/fmt-tutorial-demux-1-10p.qza\"`  \n",
    "`(qiime2) $ wget -O \"fmt-tutorial-demux-2.qza\" \"https://data.qiime2.org/2019.1/tutorials/fmt/fmt-tutorial-demux-2-10p.qza\"`"
   ]
  },
  {
   "cell_type": "markdown",
   "metadata": {},
   "source": [
    "### Sequence Quality control\n",
    "quality control을 위하여 demultiplexed sequences를 DADA2에 사용할 것이다.  \n",
    "**그러나**   \n",
    "demultiplexed sequnces에 개별적으로 denoise-single명령어를 실행한다.   \n",
    "> `(qiime2) $ qiime demux summarize \\`  \n",
    "`--i-data fmt-tutorial-demux-1.qza \\`  \n",
    "`--o-visualization demux-summary-1.qzv`  \n",
    "  \n",
    "* demux-summary-1.qzv:  \n",
    "[link](https://view.qiime2.org/visualization/?type=html&src=https%3A%2F%2Fdocs.qiime2.org%2F2019.1%2Fdata%2Ftutorials%2Ffmt%2Fdemux-summary-1.qzv)  \n",
    "\n",
    "> `(qiime2) $ qiime demux summarize \\`  \n",
    "`--i-data fmt-tutorial-demux-2.qza \\`  \n",
    "`--o-visualization demux-summary-2.qzv`  \n",
    "  \n",
    "* demux-summary-2.qzv:  \n",
    "[link](https://view.qiime2.org/visualization/?type=html&src=https%3A%2F%2Fdocs.qiime2.org%2F2019.1%2Fdata%2Ftutorials%2Ffmt%2Fdemux-summary-2.qzv)  \n",
    "  \n",
    "Here the quality seems relatively low in the first few bases, and then seems to stay relatively high through the end of the reads.   \n",
    "We’ll therefore trim the first 13 bases from each sequence and truncate the sequences at 150 bases.  \n",
    "Since the reads are 151 bases long, this results in very little truncation of the sequences.\n",
    "  \n",
    "> `(qiime2) $ qiime dada2 denoise-single \\`  \n",
    "`--p-trim-left 13 \\`  \n",
    "`--p-trunc-len 150 \\`  \n",
    "`--i-demultiplexed-seqs fmt-tutorial-demux-1.qza \\`  \n",
    "`--o-representative-sequences rep-seqs-1.qza \\`  \n",
    "`--o-table table-1.qza \\`  \n",
    "`--o-denoising-stats stats-1.qza`  \n",
    "  \n",
    "> `(qiime2) $ qiime dada2 denoise-single \\`  \n",
    "`--p-trim-left 13 \\`  \n",
    "`--p-trunc-len 150 \\`  \n",
    "`--i-demultiplexed-seqs fmt-tutorial-demux-2.qza \\`  \n",
    "`--o-representative-sequences rep-seqs-2.qza \\`  \n",
    "`--o-table table-2.qza \\`  \n",
    "`--o-denoising-stats stats-2.qza`  "
   ]
  },
  {
   "cell_type": "markdown",
   "metadata": {},
   "source": [
    "### Viewing denoising stats\n",
    "기본적인 denoising process 통계이다.\n",
    "> `(qiime2) $ qiime metadata tabulate \\`  \n",
    "`--m-input-file stats-1.qza \\`  \n",
    "`--o-visualization denoising-stats-1.qzv`  \n",
    "  \n",
    "* denoising-stats-1.qzv:  \n",
    "[link](https://view.qiime2.org/?src=https%3A%2F%2Fdocs.qiime2.org%2F2019.1%2Fdata%2Ftutorials%2Ffmt%2Fdenoising-stats-1.qzv)\n",
    "\n",
    "> `(qiime2) $ qiime metadata tabulate \\`  \n",
    "`--m-input-file stats-2.qza \\`  \n",
    "`--o-visualization denoising-stats-2.qzv`  \n",
    "  \n",
    "* denoising-stats-2.qzv:   \n",
    "[link](https://view.qiime2.org/?src=https%3A%2F%2Fdocs.qiime2.org%2F2019.1%2Fdata%2Ftutorials%2Ffmt%2Fdenoising-stats-2.qzv)\n",
    "\n",
    "\n"
   ]
  },
  {
   "cell_type": "markdown",
   "metadata": {},
   "source": [
    "### Merging denoised data  \n",
    "Merging denoised data step은 각 sequencing 을 실행하는 마지막 단계이다.  \n",
    "denosined된 두개의 sequence를 합치는 단계로서 table1과 table2를 합치면된다.  \n",
    "(in this case, the feature id is the md5 hash of the sequence defining the feature).  \n",
    "  \n",
    "table merge\n",
    "> `(qiime2) $ qiime feature-table merge \\`  \n",
    "`--i-tables table-1.qza \\`  \n",
    "`--i-tables table-2.qza \\`  \n",
    "`--o-merged-table table.qza `\n",
    "  \n",
    "representative sequence merge  \n",
    "> `(qiime2) $ qiime feature-table merge-seqs \\`  \n",
    "`--i-data rep-seqs-1.qza \\`  \n",
    "`--i-data rep-seqs-2.qza \\`  \n",
    "`--o-merged-data rep-seqs.qza`  "
   ]
  },
  {
   "cell_type": "markdown",
   "metadata": {},
   "source": [
    "### Diversity analysis\n",
    "FeatureTable, FeatureData객체가 생성되었으므로 metadata로 구성된 sample을 분석 할 준비가 되었다.\n",
    "`the moving pictures`에서 사용된 코드를 이용한다.\n",
    "다음에서 나오는 질문들은 longitudinal 에 대한 분석이다. longitudinal은 q2-longituinal tutorial에서 확인할 수 있다.\n",
    "각 질문에 대한 결과를 수집하는게 목적이다.\n",
    "  \n",
    "https://docs.qiime2.org/2019.1/tutorials/fmt/ 질문에 대한 링크 (추후에 진행)"
   ]
  },
  {
   "cell_type": "markdown",
   "metadata": {},
   "source": [
    "----"
   ]
  },
  {
   "cell_type": "markdown",
   "metadata": {},
   "source": [
    "## \"Atacama soil microbiome\" tutorial  \n",
    "이번 튜토리얼은 두개의 목적이 있다.  \n",
    "첫번째 목적은 initial processing의 paired-end를 읽는것을 분석하는 것이고,  \n",
    "동일한 시점 까지 single-end 설명의 읽고 분석을 하여 설명하는 것이다.  \n",
    "이번 단계에서는 importing, demultiplexing, and denoising step그리고 feature table과 feature와 관련된 결과도 포함되어있다.  \n",
    "  \n",
    "The Atacama Desert는 지구상에서 가장 건조한 지역이며, per decade 동안 비가 1millimeter 이하로 비가 내린다.  \n",
    "그럼에도 불구하고 극단적으로 건조한 상황의 흙속에서 microbiome이 살고 있다.  \n",
    "이번 연구에서 profiled된 soil microbiome은 높이와 습도가 양의 상관관계에 있는 두 동서 횡단인 Baquedano와 Yungay를 따른다.  \n",
    "횡단을 따라 각 지역에서 토양샘플을 추출하였고 각기 다른 구덩이의 3가지 깊이에서 수집하였다.  \n",
    "> `(qiime2) $ mkdir qiime2-atacama-tutorial`  \n",
    "`(qiime2) $ cd qiime2-atacama-tutorial/`  \n",
    "`(qiime2) $ wget -O \"sample-metadata.tsv\" \"https://data.qiime2.org/2019.1/tutorials/atacama-soils/sample_metadata.tsv\"`  \n"
   ]
  },
  {
   "cell_type": "markdown",
   "metadata": {},
   "source": [
    "### 10% subsample data\n",
    "다음은 multiplexed를 읽는 것이다. forward, reverse, 와 barcode fastq.gz파일을 다운로드해야 한다.\n",
    "> `$ mkdir emp-paired-end-sequences`  \n",
    "  \n",
    "* forword  \n",
    "  \n",
    "> `(qiime2) $ wget -O \"emp-paried-end-sequences/forward.fastq.gz\" \\`  \n",
    "`\"https://data.qiime2.org/2019.1/tutorials/atacama-soils/10p/forward.fastq.gz\"`\n",
    "  \n",
    "* reverse  \n",
    "  \n",
    "> `(qiime2) $ wget -O \"emp-paried-end-sequences/reverse.fastq.gz\" \\`  \n",
    "`\"https://data.qiime2.org/2019.1/tutorials/atacama-soils/10p/reverse.fastq.gz\"`  \n",
    "  \n",
    "* barcodes  \n",
    "  \n",
    "> `(qiime2) $ wget -O \"emp-paried-end-sequences/barcodes.fastq.gz\" \\`  \n",
    "`\"https://data.qiime2.org/2019.1/tutorials/atacama-soils/10p/barcodes.fastq.gz\"`  \n",
    "  \n",
    "### Paired-end read analysis commands\n",
    "\n",
    "data를 분석하려면 이전에 다운받았던 3가지 `EMPPairedEndSequences` 파일의 유형을 바꿔줘야한다.  \n",
    "* import  \n",
    "  \n",
    "> `(qiime2) $ qiime tools import \\`  \n",
    "`--type EMPPairedEndSequences \\`  \n",
    "`--input-path emp-paried-end-sequences \\`  \n",
    "`--output-path emp-paired-end-sequences.qza`  \n",
    "\n"
   ]
  },
  {
   "cell_type": "markdown",
   "metadata": {},
   "source": [
    "### Read demultiplex sequence  \n",
    "다음은 demultiplex sequence를 읽는 것이다.  \n",
    "sequence를 읽기 위해서는 metadata file sample을 요구한다.  \n",
    "그리고 해당 파일에서 per-sample barcode가 포함된 column을 지정해야한다.  \n",
    " In this data set, the barcode reads are the reverse complement of those included in the sample metadata file,  \n",
    " so we additionally include the --p-rev-comp-mapping-barcodes parameter.  \n",
    " #### Barcode mapping\n",
    "> `(qiime2) $ qiime demux emp-paired \\`  \n",
    "`--m-barcodes-file sample-metadata.tsv \\`  \n",
    "`--m-barcodes-column BarcodeSequence \\`  \n",
    "`--i-seqs emp-paired-end-sequences.qza \\`  \n",
    "`--o-per-sample-sequences demux.qza \\`  \n",
    "`--p-rev-comp-mapping-barcodes`\n"
   ]
  },
  {
   "cell_type": "markdown",
   "metadata": {},
   "source": [
    "#### Demultiplex summarize\n",
    "> `(qiime2) $ qiime demux summarize \\`  \n",
    "`--i-data demux.qza \\`  \n",
    "`--o-visualization demux.qzv`  \n",
    "  \n",
    "* demux.qzv:  \n",
    "    * [link](https://view.qiime2.org/?src=https%3A%2F%2Fdocs.qiime2.org%2F2019.1%2Fdata%2Ftutorials%2Fatacama-soils%2Fdemux.qzv)"
   ]
  },
  {
   "cell_type": "markdown",
   "metadata": {},
   "source": [
    "### Quality sequence\n",
    "demultiplexing 이후,  무작위로 선발된 sample을 기반으로 sequence quality를 살펴보고 denoise를 진행해야 한다.  \n",
    "quality plot을 볼때, “moving pictures tutorial”과는 다르게 두개의 plots의 sample을 가지고 있는 것을 주의해야한다.  \n",
    "plot left에는 forward로 읽은 quality score를 표시하고, plot right에는 reverse로 읽은 quality score를 표시한다.  \n",
    "우리는 plot을 사용하여 trimming parameters를 결정하고 dada2 denoise-paired를 이용하여 denoise를 진행한다.   \n",
    "이번 예제에서는 150의 forward와 reverse로 읽는다.  \n",
    "Since we need the reads to be long enough to overlap   \n",
    "paired의 처음과 끝이 연결될때 충분히 길어야 하기 때문에 13개의 forward와 reverse로 trimmed된다,  \n",
    "그러나 판독 길이가 너무 작아지지 않도록 sequence의 끝 부분에 trimming을 적용하지 않는다.  \n",
    "> `(qiime2) $ qiime dada2 denoise-paired \\`  \n",
    "`--i-demultiplexed-seqs demux.qza \\`  \n",
    "`--p-trim-left-f 13 \\`  \n",
    "`--p-trim-left-r 13 \\`  \n",
    "`--p-trunc-len-f 150 \\`  \n",
    "`--p-trunc-len-r 150 \\`  \n",
    "`--o-table table.qza \\`  \n",
    "`--o-representative-sequences rep-seqs.qza \\`  \n",
    "`--o-denoising-stats denoising-stats.qza`  \n"
   ]
  },
  {
   "cell_type": "markdown",
   "metadata": {},
   "source": [
    "#### Feature table, sequences\n",
    "이번 단계는 feature table과 그에 따른 feature sequences가 포함된 출력물을 얻는다.  \n",
    "  \n",
    "* table\n",
    "  \n",
    "> `(qiime2) $ qiime feature-table summarize \\`  \n",
    "`--i-table table.qza \\`   \n",
    "`--o-visualization table.qzv \\`  \n",
    "`--m-sample-metadata-file sample-metadata.tsv`  \n",
    "  \n",
    "* visualization  \n",
    "  \n",
    "> `(qiime2) $ qiime feature-table tabulate-seqs \\`  \n",
    "`--i-data rep-seqs.qza \\`  \n",
    "`--o-visualization rep-seqs.qzv`  "
   ]
  },
  {
   "cell_type": "markdown",
   "metadata": {},
   "source": [
    "### Denoising visualize\n",
    "> `(qiime2) $ qiime metadata tabulate \\`  \n",
    "`--m-input-file denoising-stats.qza \\`  \n",
    "`--o-visualization denoising-stats.qzv`  \n",
    "  \n",
    "* denoising-stats.qzv: \n",
    "    * [list](https://view.qiime2.org/visualization/?type=html&src=https%3A%2F%2Fdocs.qiime2.org%2F2019.1%2Fdata%2Ftutorials%2Fatacama-soils%2Fdenoising-stats.qzv) \n",
    "  \n",
    "----"
   ]
  },
  {
   "cell_type": "markdown",
   "metadata": {},
   "source": [
    "## Differential abundance analysis with gneiss  \n",
    "https://docs.qiime2.org/2018.11/tutorials/gneiss/  \n",
    "  \n",
    "이번 tutorial은 Differential abundance analysis를 어떻게 분석하는 에 대한 tutorial이다.   \n",
    "이때 분석데이터는 gneiss이다.  \n",
    "  \n",
    "여기서 진행할 것은 어떻게 일관적인 방식으로 서로 다른 abundant taxa를 식별하는지이다.  \n",
    "* Compositionality는 비율을 나타낸다.  \n",
    "* Abundances는 sequencing depth를 설명하기 위해 비율로 설명한다.(Abundances값은 상대값이다.)  \n",
    "  \n",
    "미생물이 변하고 있는지 정확히 추론하는 것은 어렵다.   \n",
    "이유는 single microbe의 변화로 비율값에 변화가 생기면 이전 microbes 비율도 변화하기 때문이다.  \n",
    "다음 그림을 보면 확인이 가능하다.  \n",
    "![](https://docs.qiime2.org/2018.11/_images/gneiss-bars.jpg)<br>\n",
    "<br>"
   ]
  },
  {
   "cell_type": "markdown",
   "metadata": {},
   "source": [
    "왼쪽(plot)에는 10종의 대한 true abundance가 있고 첫 번째 종은 time point 1에서 time point 2로 변화하는 동안 두배 증가한다.  \n",
    "오른쪽(plot)에서 비율로 normalize하면, 모든 species는 두개의 time point에서 변화는 하는 것이 나타난다.  \n",
    "proportions만 본다면, 정확한 문제에 대해서 깨닫지 못할 것이고, proportions로 기반하여 변하게 되는 것을 정확하게 결정하기 힘들다.  \n",
    "  \n",
    "differentially abundant species를 확인하는 것에 대한 문제를 정확하게 해결 할 수 없지만,  \n",
    "느슨한 방식으로 microbes의 partition가 변화하고 있는지 대해 알아볼 수 있다.  \n",
    "이전 그래프에서 first species와 second species를 비율로 계산했다면, 비율은  \n",
    "* time point 1은 1:1이 될 것이고, \n",
    "* time point 2는 2:1이 될 것이다.\n",
    "이 방법은 balance를 해결하려는 질문 유형이다.  \n",
    "  \n",
    "individual taxa에 포커스하기 보다는 오히려, taxa(or group of taxa)의 비율에 초점을 맞춘다.  \n",
    "그 이유는 true abundances와 관찰된 species의 관찰 비율의 비율을 고려하기 때문이다.  \n",
    "다음은 시각화를 위해 log 변환을 한다.  \n",
    "multiple species는 tree로 표현이 가능하다.  \n",
    "  \n",
    "![](https://docs.qiime2.org/2018.11/_images/gneiss-balances.jpg)  \n",
    "  \n",
    "왼쪽을 tree를 보면, 각 tips는 taxon군에 해당하고 그 아래에는 첫번째 sample의 taxon 비율이 있다.  \n",
    "internal nodes는 두 taxa아래에 log 비율로 정의된다.  \n",
    "오른쪽에도 같은 모양의 tree가 존재하고 그 아래에는 각기 다른 sample taxa의 비율이다.   \n",
    "balance containing를 보면 오직 보라색 taxa abundances만 바뀐다.  \n",
    "b3같은 경우에는 빨간색 taxa 의 비율만 고려하므로 변경되지 않는다.  \n",
    "  \n",
    "balance 대신 proportions를 보면 일부 주어진 balance 내부의 taxa만 초점을 맞출 수 있는 variance를 제한 함으로써 제거가 가능하다.  \n",
    "여기서 가장 중요한 질문은 어떻게 해야 balance tree를 구성하고 interesting differentially abundant한 taxa 분류를 식별할 수 있는가? 이다.  \n",
    "gneiss는 3가지 main 방법이 있다. \n",
    "* Correlation clustering\n",
    "    * 만약 서로 연관된 organisms끼리 cluster할 수 있는 정보가 없다면, 얼마나 자주 함께 발생하는지에 따라 유기체를 그룹화 할 수 있다.\n",
    "* Gradient clustering\n",
    "    * metadata category는 cluster taxa를 similar sample type을 이용한다.\n",
    "    * 예를 들어, 만약 pH가 중요한지 평가하기를 원한다면, pH에 따라 분류하고 하고 pH가 변할때 low-pH organisms과 high-ph organisms 비율이 변하는 지를 관찰할 수 있다.\n",
    "* Phylogenetic analysis\n",
    "    * phylogenetic analysis는 phylogenetic tree에 input값을 ilr-phylogenetic으로 사용한다.\n",
    "    * tree가 생기면 다음의 equation을 이용하여 balance를 계산할 수 있다.  \n",
    "  \n",
    "### Equation\n",
    "$$\n",
    "b_i = \\sqrt{\\frac{rs}{r+s}} log\\frac{g(x_r)}{g(x_s)}\n",
    "$$  \n",
    "i는 tree안에 내부 노드의 $i^{th}$(i 번째)를 나타낸다.  \n",
    "$g(x)$는 x set의 기하평균을 나타낸다.  \n",
    "$x_r$은 분자의 balance안의 taxa abundances의 집합을 나타낸다.  \n",
    "$x_s$는 분모의 balance안의 taxa abundances의 집합을 나타낸다.  \n",
    "$r$과 $s$는  $x_r$, $x_s$ 내의 taxa의 수를 나타낸다.  \n",
    "balances가 계산된후에는 ANOVA 및 선형 회귀 같은 표준 통계 절차를 수행할 수 있다.  \n"
   ]
  },
  {
   "cell_type": "markdown",
   "metadata": {},
   "source": [
    "### Creating balances\n",
    "Chronic Fatigue Syndrome dataset(만성 피로 증후군 데이터)을 사용한다.  \n",
    "dataset에는 총 87명의 데이터가 존재하고 환자 48명과 정상인 39명의 사람이 있다.  \n",
    "  \n",
    "### make env\n",
    "> `(qiime2) $ mkdir chronic-fatigue-syndrome`  \n",
    "`(qiime2) $ cd chronic-fatigue-syndrome/`\n"
   ]
  },
  {
   "cell_type": "markdown",
   "metadata": {},
   "source": [
    "### Obtain Data  \n",
    "* table\n",
    "> `(qiime2) $ wget -O \"table.qza\" \"https://data.qiime2.org/2019.1/tutorials/gneiss/table.qza\"`\n",
    "  \n",
    "* taxa\n",
    "> `(qiime2) $ wget -O \"taxa.qza\" \"https://data.qiime2.org/2019.1/tutorials/gneiss/taxa.qza\"`\n"
   ]
  },
  {
   "cell_type": "markdown",
   "metadata": {},
   "source": [
    "먼저, balance를 구성하고자 하는 microbes의 partition을 정의할 것이다.  \n",
    "다시말하면, microbes(balances)의 partition을 정의하는 tree(i.e. hierarchy)의 구성하고자하는 여러가지 방법이 있다.  \n",
    "이때 사용하는 것이 correlation-clustering과 gradient-clustering이 있다.   \n",
    "  \n",
    "주의 할 것은 differential abundance techniques는 log ratio 변환을 활용할 것이다.\n",
    "logarithm(log)에는 0을 취할 수 없기 때문에 clustering method에는 default pseudocount(가짜 계수) parameter를 포함한다.\n",
    "위와 같이 table에 존재하는 모든 0대신에 parameter를 지정하면, 1로 바뀌므로 log를 적용할 수 있게된다.\n",
    "  \n",
    "### Option 1: Correlation-clustering\n",
    "이 옵션은 기본 옵션이다.  \n",
    "Principal Balance를 위해  unsupervised clustering을 이용하여을 계층적 군집합(hierarchical clustering)에 사용한다.  \n",
    "  \n",
    "$$\n",
    "d(x, y) \\; = \\; V[ln \\frac{x}{y}]\n",
    "$$\n",
    "  \n",
    "x, y는 모든 표본에서 두 microbes의 비율을 나타낸다.  \n",
    "만약에 두개의 microbes가 관련성이 높으면 0에 가까워진다.  \n",
    "이후 hierarchical cluster는 distance metric를 이용하여 관련된 microbes끼리 그룹 clustering을 진행한다.  \n",
    "> `(qiime2) $ qiime gneiss correlation-clustering --i-table table.qza --o-clustering hierarchy.qza`\n"
   ]
  },
  {
   "cell_type": "markdown",
   "metadata": {},
   "source": [
    "### Option 2 : Gradient-clustering\n",
    "correlation-clustering의 대안은 numeric metadata 기반의 tree를 만드는 것이다.  \n",
    "Gradient-clustering을 이용하면 비슷한 거리의 metadata category의 taxa 그룹이 발생한다.  \n",
    "> `(qiime2) $ qiime gneiss gradient-clustering \\`  \n",
    "`--i-table table.qza \\`  \n",
    "`--m-gradient-file sample-metadata.tsv \\`  \n",
    "`--m-gradient-column Age \\`  \n",
    "`--o-clustering gradient-hierarchy.qza`  \n",
    "  \n",
    "이때 중요한 문제는 overfitting이다.  \n",
    "gradient-clustering을 이용하면, 구성상의 차이점을 가장 잘 표현할 수 있는 false positive를 얻을 수 있는 tree를 생성할 수 있다.  \n",
    "gradient-clustering 주의해서 사용해야한다.  \n",
    "  \n",
    "### Building linear models using balances  \n",
    "이제 partition을 정의한 tree가 생겼으니 isometric log ratio(ILR) transform이 가능하다.  \n",
    "ILR transform은 그룹간의 tree안의 node의 log ratio을 계산한다.  \n",
    "> `(qiime2) $ qiime gneiss ilr-hierarchical \\`  \n",
    "`--i-table table.qza \\`  \n",
    "`--i-tree hierarchy.qza \\`  \n",
    "`--o-balances balances.qza`\n",
    "\n",
    "\n"
   ]
  },
  {
   "cell_type": "markdown",
   "metadata": {},
   "source": [
    "이제 tree에 있는 각 node의 log ratio를 가지고 linear regression 할 수 있다.  \n",
    "linear regression은 multivariate response linear regression을 사용할 수 있으며,  \n",
    "각 balance separately에 대한 linear regression을 요약(boils down)하여 실행한다.  \n",
    "environmental variables와 microbial abundances를 연관 시키려는 시도할수 있다.  \n",
    "  \n",
    "model을 실행하면 standard univariate regression에 비해 여러가지 장점이 있다.  \n",
    "overfitting과 관련있는 많은 issues에 대해 피하고,  \n",
    "environmental parameters를 기본으로 하는 community-wide perturbations에 대한 perspective(관점)를 얻을 수 있다.  \n",
    "  \n",
    "microbial abundances(농도)에 직접적으로 balances를 mapping할 수 있기 때문에 balances에 대한 multivariate regression directly 수행할 수 있다.  \n",
    "모델은 다음과 같이 표현된다.  "
   ]
  },
  {
   "cell_type": "markdown",
   "metadata": {},
   "source": [
    "$$\n",
    "\\overrightarrow{y}\\;=\\;\\overrightarrow{\\beta_0}\\;+\\;\\overrightarrow{\\beta_{subject}}\\;\\overrightarrow{X_{subject}}\\;+\\;\\overrightarrow{\\beta_{sex}}\\;\\overrightarrow{X_{sex}}\\;+\\;\\overrightarrow{\\beta_{age}}\\;\\overrightarrow{X_{age}}\\;+\\; \\overrightarrow{\\beta_{sCD14ugml}}\\;\\overrightarrow{X_{sCD14ugml}}\\;+\\;\\overrightarrow{\\beta_{LBPugml}}\\;\\overrightarrow{X_{LBPugml}} \n",
    "$$"
   ]
  },
  {
   "cell_type": "markdown",
   "metadata": {},
   "source": [
    "Where y(vector) represents the matrix of balances to be predicted, $β_i$(vector) represents a vector of coefficients for covariate i and $X_i$(vector)represents the measures for covariate i.  \n",
    "여기서 y벡터는 예측될 balance의 matrix이며,  \n",
    "$\\beta_i$(vector)는 공변량(covariate) i에 대한 계수(coefficients)의 벡터를 나타내고  \n",
    "$X_i$(vector)는 공변량 i에 대한 계수를 나타낸다.  \n",
    "ANOVA는 특별한 케이스 임을 기억하고 있어야하며, ANOVA로 해결할수 있는 모든 문제는 선형회귀로 재구성 할 수 있다.  \n",
    "> `(qiime2) $ qiime gneiss ols-regression \\`  \n",
    "`--p-formula \"Subject+Sex+Age+BMI+sCD14ugml+LBPugml+LPSpgml\" \\`  \n",
    "`--i-table balances.qza \\`  \n",
    "`--i-tree hierarchy.qza \\`  \n",
    "`--m-metadata-file sample-metadata.tsv \\`  \n",
    "`--o-visualization regression_summary.qzv`  \n",
    "  \n",
    "* regression_summary.qzv\n",
    "    * [link](https://view.qiime2.org/?src=https%3A%2F%2Fdocs.qiime2.org%2F2019.1%2Fdata%2Ftutorials%2Fgneiss%2Fregression_summary.qzv)"
   ]
  },
  {
   "cell_type": "markdown",
   "metadata": {},
   "source": [
    "이후 내용은 추후에 진행"
   ]
  },
  {
   "cell_type": "markdown",
   "metadata": {},
   "source": [
    "### Dendrogram, Heatmap \n",
    "  \n",
    "> `(qiime2) $ qiime gneiss dendrogram-heatmap \\`  \n",
    "`--i-table table.qza \\`  \n",
    "`--i-tree hierarchy.qza \\`   \n",
    "`--m-metadata-file sample-metadata.tsv \\`  \n",
    "`--m-metadata-column Subject \\`  \n",
    "`--p-color-map seismic \\`  \n",
    "`--o-visualization heatmap.qzv \\`  \n",
    "  \n",
    "* heatmap.qzv:  \n",
    "    * [link](https://view.qiime2.org/?src=https%3A%2F%2Fdocs.qiime2.org%2F2019.1%2Fdata%2Ftutorials%2Fgneiss%2Fheatmap.qzv)\n",
    "  \n",
    "### Balance Taxonomy\n",
    "  \n",
    "> `(qiime2) $ qiime gneiss balance-taxonomy \\`  \n",
    "`--i-table table.qza \\`  \n",
    "`--i-tree hierarchy.qza \\`  \n",
    "`--i-taxonomy taxa.qza \\`  \n",
    "`--p-taxa-level 2 \\`  \n",
    "`--p-balance-name 'y0' \\`  \n",
    "`--m-metadata-file sample-metadata.tsv \\`  \n",
    "`--m-metadata-column Subject \\`  \n",
    "`--o-visualization y0_taxa_summary.qzv`  \n",
    "  \n",
    "* y0_taxa_summary.qzv:  \n",
    "    * [link](https://view.qiime2.org/?src=https%3A%2F%2Fdocs.qiime2.org%2F2019.1%2Fdata%2Ftutorials%2Fgneiss%2Fy0_taxa_summary.qzv)\n"
   ]
  },
  {
   "cell_type": "markdown",
   "metadata": {},
   "source": [
    "----"
   ]
  },
  {
   "cell_type": "markdown",
   "metadata": {},
   "source": [
    "## Importing data\n",
    "https://docs.qiime2.org/2019.1/tutorials/importing/  \n",
    "  \n",
    "QIIME2를 사용하기 위해서 input data를 반드시 QIIME2 artifact에 저장해야한다(`.qza` 파일이어야 한다.)  \n",
    "`.qza`파일은 출처가 자동으로 추적되고 분산이 가능하게 되기 때문이다.  \n",
    "또한 validation의 의미와 변환도 자동 추적된다.([link](https://docs.qiime2.org/2019.1/concepts/)여기서 concept를 살펴볼 수 있다.)  \n",
    "이번 튜토리얼은 바이러스 데이터 포맷을 QIIME2에 넣는 것을 진행해본다.  \n",
    "  \n",
    "Importing은 보통 initial data에 발생하지만 importing모든 단계에서 수행이 가능하다.  \n",
    "예를 들어 collaborator provides가 `.biom` format의 feature table을 제공하는 경우 이것을 QIIME 2 artifact에 import하여 “downsteam” statistical analysis를 할 수 있다.  \n",
    "  \n",
    "Importing은 QIIME2 interface를 이용하여 완료할 수 있다.  \n",
    "이 tutorial에서는 2 command-line interface(q2cli)를 이용하여 데이터를 import하는 것에 집중한다.  \n",
    "아래와 같은 서로 다른 타입의 FASTQ data를 import한다.  \n",
    "1. FASTQ data with the EMP Protocol format  \n",
    "2. FASTQ data with the Casava 1.8 demultiplexed format  \n",
    "3. Any other kind of FASTQ data  \n",
    "\n",
    "\n",
    "\n"
   ]
  },
  {
   "cell_type": "markdown",
   "metadata": {},
   "source": [
    "### “EMP protocol” multiplexed single-end fastq   \n",
    "Format description  \n",
    "Single-end “Earth Microbiome Project (EMP) protocol” formatted reads should have two fastq.gz files total:  \n",
    "  \n",
    "one fastq.gz file that contains the single-end reads,  \n",
    "and another that contains the associated barcode reads In this format, sequence data is still multiplexed (i.e. you have only one fastq.gz file containing raw data for all of your samples).  \n",
    "  \n",
    "The order of the records in the two fastq.gz files defines the association between a sequence read and its barcode read (i.e. the first barcode read corresponds to the first sequence read, the second barcode to the second read, and so on).  \n",
    "\n",
    "* Obtain data  \n",
    "  \n",
    "> `(qiime2) $ mkdir emp-single-end-sequences`   \n",
    "  \n",
    "> `(qiime2) $ wget -O \"emp-single-end-sequences/barcodes.fastq.gz\" \\`   \n",
    "`\"https://data.qiime2.org/2019.1/tutorials/moving-pictures/emp-single-end-sequences/barcodes.fastq.gz\"`   \n",
    "  \n",
    "> `(qiime2) $ wget -O \"emp-single-end-sequences/sequences.fastq.gz\" \\`\n",
    "`\"https://data.qiime2.org/2019.1/tutorials/moving-pictures/emp-single-end-sequences/sequences.fastq.gz\"`\n"
   ]
  },
  {
   "cell_type": "markdown",
   "metadata": {},
   "source": [
    "### Importing data \n",
    "> `(qiime2) $ qiime tools import \\`  \n",
    "`--type EMPSingleEndSequences \\`  \n",
    "`--input-path emp-single-end-sequences \\`  \n",
    "`--output-path emp-single-end-sequences.qza`"
   ]
  },
  {
   "cell_type": "markdown",
   "metadata": {},
   "source": [
    "### “EMP protocol” multiplex paired-end fastq\n",
    "Paired-end “Earth Microbiome Project (EMP) protocol” formatted reads should have three fastq.gz files total:  \n",
    "  \n",
    "one fastq.gz file that contains the forward sequence reads,  \n",
    "one fastq.gz file that contains the reverse sequence reads,  \n",
    "and a third that contains the associated barcode reads  \n",
    "In this format, sequence data is still multiplexed (i.e. you have only one forward and one reverse fastq.gz file containing raw data for all of your samples).  \n",
    "  \n",
    "* Obtain data  \n",
    "  \n",
    "> `(qiime2) $ mkdir emp-paired-end-sequences`  \n",
    "  \n",
    "> `(qiime2) $ wget -O \\`  \n",
    "`\"emp-paired-end-sequences/forward.fastq.gz\" \\`  \n",
    "`\"https://data.qiime2.org/2019.1/tutorials/atacama-soils/1p/forward.fastq.gz\"`\n",
    "  \n",
    "> `(qiime2)$ wget -O \\`  \n",
    "`\"emp-paired-end-sequences/reverse.fastq.gz\" \\`  \n",
    "`\"https://data.qiime2.org/2019.1/tutorials/atacama-soils/1p/reverse.fastq.gz\"`\n",
    "  \n",
    "> `(qiime2)$ wget -O \\`  \n",
    "`\"emp-paired-end-sequences/barcodes.fastq.gz\" \\`  \n",
    "`\"https://data.qiime2.org/2019.1/tutorials/atacama-soils/1p/barcodes.fastq.gz\"`\n",
    "\n",
    "\n",
    "\n"
   ]
  },
  {
   "cell_type": "markdown",
   "metadata": {},
   "source": [
    "* Importing data\n",
    "\n",
    "> `(qiime2) $ qiime tools import \\`  \n",
    "`--type EMPPairedEndSequences \\`  \n",
    "`--input-path emp-paired-end-sequences \\`  \n",
    "`--output-path emp-paired-end-sequences.qza`"
   ]
  },
  {
   "cell_type": "markdown",
   "metadata": {},
   "source": [
    "### Casava 1.8 single-end demultiplexed fastq\n",
    "Format description  \n",
    "In the Casava 1.8 demultiplexed (single-end) format, there is one fastq.gz file for each sample in the study which contains the single-end reads for that sample. The file name includes the sample identifier and should look like L2S357_15_L001_R1_001.fastq.gz. The underscore-separated fields in this file name are:  \n",
    "  \n",
    "1. the sample identifier,  \n",
    "2. the barcode sequence or a barcode identifier,  \n",
    "3. the lane number,  \n",
    "4. the direction of the read (i.e. only R1, because these are single-end reads), and  \n",
    "5. the set number.  \n",
    "  "
   ]
  },
  {
   "cell_type": "markdown",
   "metadata": {},
   "source": [
    "* Obtaining example data   \n",
    "> `(qiime2) $  wget \\`  \n",
    "  `-O \"casava-18-single-end-demultiplexed.zip\" \\`  \n",
    "  `\"https://data.qiime2.org/2019.1/tutorials/importing/casava-18-single-end-demultiplexed.zip\"`  \n",
    "  \n",
    "* unzip data\n",
    "> `(qiime2) $ unzip -q casava-18-single-end-demultiplexed.zip`  \n",
    "  \n",
    "* Importing data\n",
    "> `(qiime2) $ qiime tools import \\`  \n",
    "  `--type 'SampleData[SequencesWithQuality]' \\`  \n",
    "  `--input-path casava-18-single-end-demultiplexed \\`  \n",
    "  `--input-format CasavaOneEightSingleLanePerSampleDirFmt \\`  \n",
    "  `--output-path demux-single-end.qza`  \n",
    "  \n",
    "* demux-single-end.qza:  \n",
    "    * [link](https://view.qiime2.org/?src=https%3A%2F%2Fdocs.qiime2.org%2F2019.1%2Fdata%2Ftutorials%2Fimporting%2Fdemux-single-end.qza)"
   ]
  },
  {
   "cell_type": "markdown",
   "metadata": {},
   "source": [
    "### Casava 1.8 paired-end demultiplexed fastq\n",
    "**Format description**\n",
    "  \n",
    "In Casava 1.8 demultiplexed (paired-end) format, there are two fastq.gz files for each sample in the study, each containing the forward or reverse reads for that sample. The file name includes the sample identifier. The forward and reverse read file names for a single sample might look like L2S357_15_L001_R1_001.fastq.gz and L2S357_15_L001_R2_001.fastq.gz, respectively. The underscore-separated fields in this file name are:"
   ]
  },
  {
   "cell_type": "markdown",
   "metadata": {},
   "source": [
    "1. the sample identifier,\n",
    "2. the barcode sequence or a barcode identifier,\n",
    "3. the lane number,\n",
    "4. the direction of the read (i.e. R1 or R2), and\n",
    "5. the set number.\n",
    "  "
   ]
  },
  {
   "cell_type": "markdown",
   "metadata": {},
   "source": [
    "* Obtaining example data\n",
    "> `(qiime2) $ wget -O \"casava-18-paired-end-demultiplexed.zip\" \\`   \n",
    "`\"https://data.qiime2.org/2019.1/tutorials/importing/casava-18-paired-end-demultiplexed.zip\"`  \n",
    "  \n",
    "* unzip\n",
    "> `(qiime2) $ unzip -q casava-18-paired-end-demultiplexed.zip`  \n",
    "  \n",
    "* Importing data\n",
    "> `(qiime2) $ qiime tools import \\`  \n",
    "  `--type 'SampleData[PairedEndSequencesWithQuality]' \\`  \n",
    "  `--input-path casava-18-paired-end-demultiplexed \\`  \n",
    "  `--input-format CasavaOneEightSingleLanePerSampleDirFmt \\`  \n",
    "  `--output-path demux-paired-end.qza`"
   ]
  },
  {
   "cell_type": "markdown",
   "metadata": {},
   "source": [
    "### “Fastq manifest” formats"
   ]
  },
  {
   "cell_type": "markdown",
   "metadata": {},
   "source": [
    "If you don’t have either EMP or Casava format, you need to import your data into QIIME 2 manually by first creating a “manifest file” and then using the qiime tools import command with different specifications than in the EMP or Casava import commands.  \n",
    "  \n",
    "Format description\n",
    "First, you’ll create a text file called a “manifest file”, which maps sample identifiers to fastq.gz or fastq absolute filepaths that contain sequence and quality data for the sample (i.e. these are FASTQ files). The manifest file also indicates the direction of the reads in each fastq.gz or fastq file. The manifest file will generally be created by you, and it is designed to be a simple format that doesn’t put restrictions on the naming of the demultiplexed fastq.gz / fastq files, since there is no broadly used naming convention for these files. You can call the manifest file whatever you want.  \n",
    "  \n",
    "The manifest file is a comma-separated (i.e., .csv) text file. The first field on each line is the sample identifier that should be used by QIIME, the second field is the absolute filepath, and the third field is the read direction. Lines beginning with # and blank lines are ignored. The first line in the file that does not begin with a # and is not blank must be the header line: sample-id,absolute-filepath,direction. With the exception of the header line, the order of lines in this file is not important.  \n",
    "  \n",
    "For single-end reads, there must be exactly one line per sample ID corresponding to the forward reads (or reverse, if you’re processing these separately as single-end reads). For paired-end reads there must be exactly two lines per sample id, corresponding to the forward and the reverse reads. The direction field on each line can only contain the text forward or reverse.  \n",
    "\n",
    "The fastq.gz absolute filepaths may contain environment variables (e.g., `$HOME` or `$PWD`). The following example illustrates a simple fastq manifest file for paired-end read data for two samples.  "
   ]
  },
  {
   "cell_type": "markdown",
   "metadata": {},
   "source": [
    "```\n",
    "sample-id,absolute-filepath,direction\n",
    "# Lines starting with '#' are ignored and can be used to create\n",
    "# \"comments\" or even \"comment out\" entries\n",
    "sample-1,$PWD/some/filepath/sample1_R1.fastq.gz,forward\n",
    "sample-2,$PWD/some/filepath/sample2_R1.fastq.gz,forward\n",
    "sample-1,$PWD/some/filepath/sample1_R2.fastq.gz,reverse\n",
    "sample-2,$PWD/some/filepath/sample2_R2.fastq.gz,reverse\n",
    "```"
   ]
  },
  {
   "cell_type": "markdown",
   "metadata": {},
   "source": [
    "Just like with fastq.gz, the absolute filepaths in the manifest for any fastq files must be accurate. The following example illustrates a simple fastq manifest file for fastq single-end read data for one sample.  \n",
    "```\n",
    "sample-id,absolute-filepath,direction\n",
    "sample-1,$PWD/some/filepath/sample1_R1.fastq,forward\n",
    "```"
   ]
  },
  {
   "cell_type": "markdown",
   "metadata": {},
   "source": [
    "There are four variants of FASTQ data which you must specify to QIIME 2 when importing, and which are defined in the following sections.\n",
    "  \n",
    "SingleEndFastqManifestPhred33  \n",
    "In this variant of the fastq manifest format, the read directions must all either be forward or reverse. This format assumes that the PHRED offset used for the positional quality scores in all of the fastq.gz / fastq files is 33.\n",
    " \n",
    "SingleEndFastqManifestPhred64  \n",
    "In this variant of the fastq manifest format, the read directions must all either be forward or reverse. This format assumes that the PHRED offset used for the positional quality scores in all of the fastq.gz / fastq files is 64. During import, QIIME 2 will convert the PHRED 64 encoded quality scores to PHRED 33 encoded quality scores. This conversion will be slow, but will only happen one time.\n",
    "\n",
    "PairedEndFastqManifestPhred33  \n",
    "In this variant of the fastq manifest format, there must be forward and reverse read fastq.gz / fastq files for each sample id. As a result, each sample id is represented twice in the manifest file: once for its forward reads, and once for its reverse reads. This format assumes that the PHRED offset used for the positional quality scores in all of the fastq.gz / fastq files is 33.\n",
    "\n",
    "PairedEndFastqManifestPhred64  \n",
    "In this variant of the fastq manifest format, there must be forward and reverse read fastq.gz / fastq files for each sample id. As a result, each sample id is represented twice in the manifest file: once for its forward reads, and once for its reverse reads. This format assumes that the PHRED offset used for the positional quality scores in all of the fastq.gz / fastq files is 64. During import, QIIME 2 will convert the PHRED 64 encoded quality scores to PHRED 33 encoded quality scores. This conversion will be slow, but will only happen one time."
   ]
  },
  {
   "cell_type": "markdown",
   "metadata": {},
   "source": [
    "* Obtain data  \n",
    "  \n",
    "> `(qiime2) $ wget \\`  \n",
    "  `-O \"se-33.zip\" \\`  \n",
    "  `\"https://data.qiime2.org/2019.1/tutorials/importing/se-33.zip\"`\n",
    "  \n",
    "> `(qiime2) $wget \\`  \n",
    "  `-O \"se-33-manifest\" \\`  \n",
    "  `\"https://data.qiime2.org/2019.1/tutorials/importing/se-33-manifest\"`  \n",
    "  \n",
    "> `(qiime2) $ wget \\`  \n",
    "  `-O \"pe-64.zip\" \\`  \n",
    "  `\"https://data.qiime2.org/2019.1/tutorials/importing/pe-64.zip\"`  \n",
    "  \n",
    "> `(qiime2) $ wget \\`\n",
    "  `-O \"pe-64-manifest\" \\`\n",
    "  `\"https://data.qiime2.org/2019.1/tutorials/importing/pe-64-manifest\"`  \n",
    "  \n",
    "> `unzip -q se-33.zip`  \n",
    "`unzip -q pe-64.zip`  \n",
    "  \n",
    "* Importing Data  \n",
    "  \n",
    "    * Phred33\n",
    "> `(qiime2) $ qiime tools import \\`  \n",
    "  `--type 'SampleData[SequencesWithQuality]' \\`  \n",
    "  `--input-path se-33-manifest \\`  \n",
    "  `--output-path single-end-demux.qza \\`  \n",
    "  `--input-format SingleEndFastqManifestPhred33`  \n",
    "    * Phred64\n",
    "> `(qiime2) $ qiime tools import \\`  \n",
    "  `--type 'SampleData[PairedEndSequencesWithQuality]' \\`  \n",
    "  `--input-path pe-64-manifest \\`  \n",
    "  `--output-path paired-end-demux.qza \\`  \n",
    "  `--input-format PairedEndFastqManifestPhred64`  "
   ]
  },
  {
   "cell_type": "markdown",
   "metadata": {},
   "source": [
    "이후의 내용은 추후에 정리하도록 한다."
   ]
  },
  {
   "cell_type": "markdown",
   "metadata": {},
   "source": [
    "---"
   ]
  },
  {
   "cell_type": "code",
   "execution_count": null,
   "metadata": {},
   "outputs": [],
   "source": []
  },
  {
   "cell_type": "code",
   "execution_count": null,
   "metadata": {},
   "outputs": [],
   "source": []
  },
  {
   "cell_type": "code",
   "execution_count": null,
   "metadata": {},
   "outputs": [],
   "source": []
  },
  {
   "cell_type": "code",
   "execution_count": null,
   "metadata": {},
   "outputs": [],
   "source": []
  },
  {
   "cell_type": "code",
   "execution_count": null,
   "metadata": {},
   "outputs": [],
   "source": []
  },
  {
   "cell_type": "markdown",
   "metadata": {},
   "source": [
    "----"
   ]
  },
  {
   "cell_type": "markdown",
   "metadata": {},
   "source": [
    "## Performing longitudinal and paired sample comparisons with q2-longitudinal  \n",
    "  \n",
    "q2-longitudinal의 various features에 대해 시연할 것이다.  \n",
    "이 plugin은 통계 longitudinal 학습 설계의 visual comparisons과 paired sample을 지원하며,  \n",
    "이런 것들로 인해 ‘stats’간에 if/how sample이 변경되는지에 대해 결정하게 된다.  \n",
    "‘stats’는 일반적으로 시간과 environmental gradient과 관련이 있고,  \n",
    "paired analyses의 경우 서로 다른 시간에서 관찰된 두 시점에서 관찰된 같은 대상으로 구성되어야 한다.  \n",
    "예를 들어 임상 환자의 대변샘플의 치료받기 전과 치료 후의 샘플을 말하는 것이다.  \n",
    "  \n",
    "“States”는 일반적으로 methodological으로 사용할 수 있으며,  \n",
    "이 sample 두시 점에 대한 같은 sample을 말한다.  \n",
    "예를 들어, q2-longitudinal는 여러가지 수집방법, 저장 방법, DNA 추출 방법 또는 각 sample의 feature 끼리 비교에 관한 bioinformatic processing step에 비교하는 것이 가능하다.\n",
    "  \n",
    "이번 예제에서 사용할 데이터는 ECAM study데이터 이다.  \n",
    "연구 내용은 2세까지의 영아와 엄마의 microbiota에 대한 longitudinal에 대한 연구이다.  \n",
    "  \n",
    "### Obtain data\n",
    "> `(qiime2) $ mkdir longitudinal-tutorial`  \n",
    "`(qiime2) $ cd longitudinal-tutorial`  \n",
    "`(qiime2) $ wget -O \"ecam-sample-metadata.tsv\" \"https://data.qiime2.org/2019.1/tutorials/longitudinal/sample_metadata.tsv\"`  \n",
    "`(qiime2) $ wget   -O \"shannon.qza\"   \"https://data.qiime2.org/2019.1/tutorials/longitudinal/ecam_shannon.qza\"`  \n",
    "`(qiime2) $ wget   -O \"unweighted_unifrac_distance_matrix.qza\"   \"https://data.qiime2.org/2019.1/tutorials/longitudinal/unweighted_unifrac_distance_matrix.qza\"`  \n",
    "  \n",
    "### Pairwise difference comparisons\n",
    "  \n",
    "  Pairwise difference test는 특정 측정 항목의 값이 치료 전후간에 변하는지 여부를 결정한다.  \n",
    "이번 visualizer는 현재 feature table안의 또는 sample metadata file안의 metadata values에 대한 feature abundance간의 비교를 지원한다.  \n",
    "Alpha diversity values(e.g., observed sequence variants)와 Beta diversity values(e.g., principal coordinates)가 test를 할 metrics를 비교하는 것에 유용하다.  \n",
    "그리고 input으로 하나의 metadata가 담겨있는 것을 넣어야 한다.  \n",
    "> `(qiime2) $ qiime longitudinal pairwise-differences \\`  \n",
    "`--m-metadata-file ecam-sample-metadata.tsv \\`  \n",
    "`--m-metadata-file shannon.qza \\`  \n",
    "`--p-metric shannon \\`  \n",
    "`--p-group-column delivery \\`  \n",
    "`--p-state-column month \\`  \n",
    "`--p-state-1 0 \\`  \n",
    "`--p-state-2 12 \\`  \n",
    "`--p-individual-id-column studyid \\`  \n",
    "`--p-replicate-handling random \\`  \n",
    "`--o-visualization pairwise-differences.qzv `  \n",
    "  \n",
    "* pairwise-differences.qzv:  \n",
    "    * [link](https://view.qiime2.org/?src=https%3A%2F%2Fdocs.qiime2.org%2F2019.1%2Fdata%2Ftutorials%2Flongitudinal%2Fpairwise-differences.qzv)"
   ]
  },
  {
   "cell_type": "markdown",
   "metadata": {},
   "source": [
    "pairwise-distances visualizer 또한 두개의 각각 다른 “states”가 바뀐 paired sample에 대해 평가하나,  \n",
    "metadata column 또는 artifact를 input으로 가져오는 대신에 “pre”와 “post” sample 쌍에 대해 거리를 평가하기 위해 거리 matrix를 사용하고 group-column매개 변수에 지정된대로 서로 다른 paired에 차이가 큰지에 대한 여부를 테스트한다.  \n",
    "> `(qiime2) $ qiime longitudinal pairwise-distances \\`  \n",
    "`--i-distance-matrix unweighted_unifrac_distance_matrix.qza \\`  \n",
    "`--m-metadata-file ecam-sample-metadata.tsv \\`   \n",
    "`--p-group-column delivery \\`  \n",
    "`--p-state-column month \\`  \n",
    "`--p-state-1 0 \\`  \n",
    "`--p-state-2 12 \\`  \n",
    "`--p-individual-id-column studyid \\`  \n",
    "`--p-replicate-handling random \\`  \n",
    "`--o-visualization pairwise-distances.qzv`  \n",
    "  \n",
    "* pairwise-distances.qzv: view "
   ]
  },
  {
   "cell_type": "markdown",
   "metadata": {},
   "source": [
    "### Linear mixed effect models\n",
    "Linear mixed effects(LME) models single response variable과 하나 또는 다수의 independent variable관계에 대해 test한다.  \n",
    "예를 들어 repeated-measures sampleling 실험에서 dependent sample간의 관찰이 이루어진다.  \n",
    "이번 그래프는 LME model을 이용하여 회귀 그래프를 그린다.  \n",
    "추가적으로 반복되는 데이터를 구별하기 위해 individual-id-column매개 변수로 열을 지정해야한다.  \n",
    "위 매개변수로 table의 ID기능을 수행한다.  \n",
    "  \n",
    "쉼표로 구분하여 임의대로 column을 입력할 수 도 있다.  \n",
    "여기서는 LME를 사용하여 alpha diversity(Shannon diversity index)가 ECAM dataset의 delivery, mode, diet, 그리고 sex 따라 변동 여부를 test한다.  \n",
    "\n",
    "> `(qiime2) $ qiime longitudinal linear-mixed-effects \\`  \n",
    "`--m-metadata-file ecam-sample-metadata.tsv \\`  \n",
    "`--m-metadata-file shannon.qza \\`  \n",
    "`--p-metric shannon \\`  \n",
    "`--p-group-columns delivery,diet,sex \\`  \n",
    "`--p-state-column month \\`  \n",
    "`--p-individual-id-column studyid \\`  \n",
    "`--o-visualization linear-mixed-effects.qzv \\`  \n",
    "   \n",
    "* linear-mixed-effects.qzv: \n",
    "    * [link](https://view.qiime2.org/?src=https%3A%2F%2Fdocs.qiime2.org%2F2019.1%2Fdata%2Ftutorials%2Flongitudinal%2Flinear-mixed-effects.qzv)  \n",
    "  \n",
    "Visualizer produced는 몇가지 명령어를 담고 있다.  \n",
    "첫째 input parameters를 보여주는 편리성을 가진 visualization\n",
    "둘째 학습된 LEM model의 model summary 이 정보는 각 \"groups\"에 대해 설명한다.\n",
    "조사해야될 주요 결과는 \"model results\"와 \"model summary\"이다.\n",
    "  \n",
    "뒤의 내용은 추후에 정리"
   ]
  },
  {
   "cell_type": "markdown",
   "metadata": {},
   "source": [
    "### Volatility analysis\n",
    "Volatility visualizer는 dependent variable이 얼마나 continuous한지,  \n",
    "independent variable가 얼마나 volatile한지 서로 상호 작용하는 line plot을 생성한다.  \n",
    "Multiple metadata file과 FeatureTable[Relativefrequency] table은 넣은 것으로 interactive visualization에 사용하는 것이 가능하며,  \n",
    "또한 다른 dependent variables를 y-axis에 대한 plot으로 선택할 수 있다.\n",
    "  \n",
    "> `(qiime2) $ qiime longitudinal volatility \\`  \n",
    "`--m-metadata-file ecam-sample-metadata.tsv \\`  \n",
    "`--m-metadata-file shannon.qza \\`  \n",
    "`--p-default-metric shannon \\`  \n",
    "`--p-default-group-column delivery \\`  \n",
    "`--p-state-column month \\`  \n",
    "`--p-individual-id-column studyid \\`  \n",
    "`--o-visualization volatility.qzv`  \n",
    "  \n",
    "* volatility.qzv: \n",
    "    * [link](https://view.qiime2.org/?src=https%3A%2F%2Fdocs.qiime2.org%2F2019.1%2Fdata%2Ftutorials%2Flongitudinal%2Fvolatility.qzv)  \n",
    " \n",
    "용어 설명:\n",
    "* cesarean: 자궁\n",
    "* vagina: 질\n",
    "  \n",
    "Volatility대한 자세한 정리는 추후에 정리"
   ]
  },
  {
   "cell_type": "markdown",
   "metadata": {},
   "source": [
    "### First diferencing to track rate of change  \n",
    "Time series data를 보는 다른 방법은 시간의 변화에 따른 change 비율이다.  \n",
    "  \n",
    "$$\n",
    "\\Delta Y_t = Y_t -Y_{t-1}\n",
    "$$\n",
    "  \n",
    "Y는 metric의 값이고 t가 시간일 때, $\\Delta Y_t$값은 $Y_t - Y_{t-1}$으로 계산이 가능하다.  \n",
    "계산은 고정된 간격으로 시행되므로 $Y_t$나 $Y_{t-1}$이 없을 경우에는 계산되지 않는다.  \n",
    "> `(qiime2) $ qiime longitudinal first-differences \\`  \n",
    "`--m-metadata-file ecam-sample-metadata.tsv \\`   \n",
    "`--m-metadata-file shannon.qza \\`  \n",
    "`--p-state-column month \\`   \n",
    "`--p-metric shannon \\`   \n",
    "`--p-individual-id-column studyid \\`    \n",
    "`--p-replicate-handling random \\`  \n",
    "`--o-first-differences shannon-first-differences.qza`  \n",
    "    \n",
    "출력값은 SampleData[firstDifferences]이며, 시각화 된다.\n",
    "예를 들어 volatility visualizer하거나 linear-mixed-effects 또는 other method로 분석할 수 있다.\n"
   ]
  },
  {
   "cell_type": "markdown",
   "metadata": {},
   "source": []
  },
  {
   "cell_type": "markdown",
   "metadata": {},
   "source": []
  },
  {
   "cell_type": "code",
   "execution_count": null,
   "metadata": {},
   "outputs": [],
   "source": []
  },
  {
   "cell_type": "markdown",
   "metadata": {},
   "source": []
  },
  {
   "cell_type": "markdown",
   "metadata": {},
   "source": []
  },
  {
   "cell_type": "markdown",
   "metadata": {},
   "source": []
  },
  {
   "cell_type": "code",
   "execution_count": null,
   "metadata": {},
   "outputs": [],
   "source": []
  }
 ],
 "metadata": {
  "kernelspec": {
   "display_name": "Python 3",
   "language": "python",
   "name": "python3"
  },
  "language_info": {
   "codemirror_mode": {
    "name": "ipython",
    "version": 3
   },
   "file_extension": ".py",
   "mimetype": "text/x-python",
   "name": "python",
   "nbconvert_exporter": "python",
   "pygments_lexer": "ipython3",
   "version": "3.7.1"
  }
 },
 "nbformat": 4,
 "nbformat_minor": 2
}
