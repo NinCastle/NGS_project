{
 "cells": [
  {
   "cell_type": "markdown",
   "metadata": {},
   "source": [
    "http://www.consevol.org/pdf/Navas-Molina_2013_MethodsEnzymol.pdf  \n",
    "http://cafe.daum.net/_c21_/bbs_search_read?grpid=n91&fldid=3G4&datanum=102   \n",
    "[Jackkiniffe에 관한 논문](https://www.researchgate.net/profile/Ruofei_Du/publication/323595926_A_weighted_Jackknife_method_for_clustered_data/links/5b3b9e174585150d23f64029/A-weighted-Jackknife-method-for-clustered-data.pdf?origin=publication_detail)  \n",
    "하기 내용은 상기 링크를 정리한것  "
   ]
  },
  {
   "cell_type": "markdown",
   "metadata": {},
   "source": [
    "# Advancing Our Understanding of the Human Microbiome Using Qiime"
   ]
  },
  {
   "cell_type": "markdown",
   "metadata": {},
   "source": [
    "## Abstract\n",
    "DNA Sequencing의 높은 처리량 기술은 bioinfomatics(생물 정보학) tools와 발전과 함께 해왔고,  \n",
    "microbial ecology(미생물 생태학)이 급격한 발전을 이루게 하였으며, 사람의 bioinfomatics를 이해하게 되는데 기여하였다.  \n",
    "많은 tools중 Qiime(Quantiative Insights Into Microbial Ecology)가 있다.\n",
    "> * DNA sequence data에 대한 mirobial community 분석하기 위해 만들어진 opensource bioinformatics 소프트웨어 패키지이다.  \n",
    "* 통계 분석을 통하여 출력이 되고 출력결과를 Visualization할 수 있다.  \n",
    "  \n",
    "이 번 챕터에서는, 신체 몇 군데에서 추출한 transgenic을 QIIME mirobial communities 파이프 라인을 통해 만들어진 데이터와,  \n",
    "illumina MiSeq platform을 통해 만들어진 야생 쥐의 16S rRNA 유전자 sequences를 시연해볼것이다.  \n",
    "현재 실행 가능한 파이프라인 추천하자면, microbial community analysis와 가이드 라인에서 제공하는 프로세스의 critical choices이다.  "
   ]
  },
  {
   "cell_type": "markdown",
   "metadata": {},
   "source": [
    "## 1. INTRODUCTION\n",
    "DNA 시퀀싱 기술의 발전은 대량의 데이터를 분석하기 위한 culture-independent 시퀀싱과 소프트웨어의 가용성과 함께 다양한 환경에서 미생물 군집을 특성화 하는데 능력을 크게 향상시켰다.  \n",
    "인간의 미생물(인체에 존재하는 미생물 집합체)은 관심의 대상이며, 미생물 세포는 우리 몸의 세포보다 10:1의 비율로 더 많다.\n",
    "또한 인간의 미생물 군집은 건강한 human microbiota에 기여하고 있다.  \n",
    "미생물은 development, dysbiosis(or imbalance in these communities), 비만, 크론병을 비롯한 질병과도 관계가 깊다. \n",
    "\n",
    "무균생쥐를 이용한 실험을 통해 미생물이 원인균이 될수 있음을 시사했다. 왜냐하면 certain phenotypes 가 미생물을 점염시켜 전달 될수 있기때문이다. (Carvalho et al., 2012; McLean, Bergonzelli, Collins, & Bercik, 2012; (Diaz Heijtz et al., 2011; Koren et al., 2012, Smith et al., 2013).  \n",
    "  \n",
    "최근 연구에서 급격하게 증가하기 시작한 미생물 데이터를 처리하기 위한 도구의 필요성이 대두되었다.  \n",
    "QIIME(Quantitative Insights Into Microbial Ecology)는 raw sequence data의 상호 작용으로 통계, 시각화, 분석에 이르기까지 self-contained microbial community 분석을 제공하도록 고안된 오픈 소스 파이프 라인이다.  "
   ]
  },
  {
   "cell_type": "markdown",
   "metadata": {},
   "source": [
    "## 2. QIIME AS INTEGRATED PIPELINE OF THIRD-PARTY TOOLS  \n",
    "이전까지 QIIME의 가장 큰 문제는 설치였다.  \n",
    "왜냐하면 QIIME은 여러가지 소프트가 독립적이였기 때문이다.\n",
    "그러나 지속적인 업데이트를 통하여 QIIME자체의 분석알고리즘이 내장되었다.  \n",
    "\n",
    "하지만 파이프 라인에는 두가지 옵션이 존재한다.  \n",
    "알고리즘을 다시 구현하거나 기존에 내장된 파이프라인을 사용하는 것이다.  \n",
    "\n",
    "QIIME은 알고리즘을 다시 구현하는 대신 모든 알고리즘을 포함하는것으로 개인의 무결성을 보장한다.  \n",
    "사용하는 도구 자체를 원저자가 설계, 작성 및 테스트 한것이며, 대부분의 경우 과학 공동체로 부터 심사를 받았다.  \n",
    "  \n",
    "또한 지속적으로 업데이트 되는 알고리즘을 새로 적용시켜 신속하게 배포하고 있다.\n",
    "\n",
    "QIIME Parameter의 기본값은 **uclust**이고, cluster sequences는 **The GreenGenes**를 기반으로 하였으며,  \n",
    "taxonomy에는 **RDP classifier**을 사용하였다. \n",
    "그리고 그만큼 중요한 분석(PCoA)은 **UniFrac**이다."
   ]
  },
  {
   "cell_type": "markdown",
   "metadata": {},
   "source": [
    "각각의 파이프 라인은 연구원들의 참여하고 확장하고 있다.  \n",
    "예를 들어 pick_otus.py는 9가지의 다른 clustering 알고리즘을 제공하며, 각각의 알고리즘은 인정받는 연구원이 제작하였다.  \n",
    "  \n",
    "taxonomy 데이터 베이나 reference dataes에는 GreenGenes가 포함되어 있고 그것이 release 버전에 중요하게 인용되어 있다. 따라서 같은 결과를 도출하기 위해서는 릴리즈에 사용되었던 data를 사용하는 것이 중요하다.  \n",
    "  \n",
    "사용된 버전은 release date 이후에 표시되어 있다.\n",
    "* 12_10 release.  \n",
    "  \n",
    "GreenGenes는 giime.org 웹에서 받을 수 있다.    \n",
    "  \n",
    "아래는 QIIME 파이프 라인에 사용된 툴들이다.  \n",
    "> • uclust (Edgar, 2010). Used for OTU picking.  \n",
    "• usearch (Edgar, 2010). Used for OTU picking and chimera checking. 374 José A. Navas-Molina et al. Author's personal copy  \n",
    "• RDP classifier (Wang et al., 2007). Used for taxonomy assignment.  \n",
    "• GreenGenes database (DeSantis etal., 2006). Used as a reference database for taxonomy assignment and reference-based OTU picking (see below).  \n",
    "• PyNAST (Caporaso, Bittinger, et al., 2010). Used for multiple sequence alignment.  \n",
    "• UniFrac (Lozupone & Knight, 2005). Used as a phylogenetic metric for beta-diversity analysis."
   ]
  },
  {
   "cell_type": "markdown",
   "metadata": {},
   "source": [
    "## 3. PCR AND SEQUENCING ON ILLUMINA MISeq"
   ]
  },
  {
   "cell_type": "markdown",
   "metadata": {},
   "source": [
    "PCR 단계에서 sequencing adaptors와 바코드를 도입하면 필요한 16S amplicon 의 여러 효소 처리보다 이점이 있다.  \n",
    "\n",
    "첫번째로 고려해야할 중요사항은 sample handling을 줄이는 것이다.  \n",
    "* sample handling을 줄이게 된다면 샘플의 오염 위험성, 잘못된 라벨링, 그리고 준비 과정에서 샘플의 손실을 최소화 할 수 있다.  \n",
    "  \n",
    "PCR 단계에서 adapter와 바코드를 결합하면 샘플의 primers가 정확하게 맵핑하여 샘플의 바코드를 정확하게 알 수 있게 된다.  \n",
    "  \n",
    "QIIME 기본 설정은 Golay barcode를 감지하므로 QIIME코드를 이용하여 시퀀스를 보존하고 정확도를 극대화 할수 있다."
   ]
  },
  {
   "cell_type": "markdown",
   "metadata": {},
   "source": [
    "custom barcodes로 실행되는 amplicon용 MiSeq load에 대한 자세한 내용 아래 사이트를 확인해보면된다.\n",
    "(www.earthmicrobiome.org)\n",
    "\n",
    "즉, pool된 libraries는 Bioanalyzer(Agilent Technologies)에 의해 분석되고 Qubit Fluorometer(Life Technologies, high-sensitivity reagents)를 이용하여 2$\\eta$M으로 희석된다.  \n",
    "  \n",
    "pHiX spike-in library(illumina Inc.) 2$\\eta$m 희석시킬수 있다.\n",
    "\n",
    "pool된 16S rRNA gene amplicon libraries와 phiX control은 illumina Inc의 따라 수행되고, denatured template concentration은 20$\\rho$m이다.\n",
    "\n",
    "Denatured templates are further diluted to 5 $\\rho$M (using Illumina HT1 buffer) and subsequently combined to give an 85% 16S rRNA gene amplicon library and 15% phiX control pool (1000 $\\mu$L total volume). \n",
    "\n",
    "Illumina 분석 소프트웨어의 개선으로 16S rRNA gene amplicons의 더 많은 sequence를 사용할 수 있다.  \n",
    "  \n",
    "MiSeq reagent cartridges are prepared according to the manufacturer’s instructions (Illumina Inc.). The sample pool (1000 $\\mu$L total volume) is loaded into cartridge position 17. \n",
    "Custom 16S rRNA gene Read 1, Index Read, and Read 2 sequencing primers are added directly to cartridge wells containing the standard Illumina Read 1, Index Read, and Read 2 sequencing primers (wells 12, 13, and 14, respectively, 5 $\\rho$L each primer at 100 $\\mu$M concentration (Caporaso et al., 2012)). \n",
    "Primers are added to wells using a long gel loading tip and gently mixed using a plastic Pasteur pipette. \n",
    "Care must be taken to assure that reagents in the cartridge are localized to the bottom of the wells and that no bubbles are present.  \n",
    "The spike-in of PhiX, at least at low levels, is still critical for obtaining usable amplicon data because the optics requires diversity at each nucleotide position, which is not possible with absolutely conserved nucleotides within the 16S rRNA gene (or most other genes of interest). Many users have had difficulty mixing this protocol for custom amplicons with Illumina’s own indexing protocol, which allows a maximum of 96 samples to be multiplexed per run at the time of writing. \n",
    "It is critical to use either this protocol exactly (allowing arbitrary numbers of custom barcodes) or Illumina’s barcoding protocol, but not to mix and match steps and reagents. "
   ]
  },
  {
   "cell_type": "markdown",
   "metadata": {},
   "source": [
    "---\n",
    "![](img/overview.png)"
   ]
  },
  {
   "cell_type": "markdown",
   "metadata": {},
   "source": [
    "QIIME workflow overview.\n",
    "The upstream process (갈색 박스)이고 OTU table과 phylogenetic tree를 생성하는 것을 포함하고 있며,  \n",
    "시퀀스 프로세싱 읽는것 시작으로 OTU table과 phylogentic tree를 만드는것을 끝난다.  \n",
    "  \n",
    "The downstream process (파란 박스) 분석과 해석이 섞여있다.  \n",
    "그리고 OTU table과 phylogenetic tree를 시작으로 alpha-, beta-diversity analyses, visualizations, statistics을로 끝난다."
   ]
  },
  {
   "cell_type": "markdown",
   "metadata": {},
   "source": [
    "## 4. QIIME WORKFLOW FOR CONDUCTING MICROBIAL COMMUNITY ANALYSIS\n",
    "The Illumina MiSeq technology는 한번의 실행에서 107시퀀스를 생성할 수 있다.(Kuczynski et al., 2012).   \n",
    "QIIME은 기계에서 생성된 유용한 정보(각각의 cummunity)의 대표 샘플 가져온다."
   ]
  },
  {
   "cell_type": "markdown",
   "metadata": {},
   "source": [
    "### 4.1. Upstream analysis Steps  \n",
    "QIIME analysis workflow는 sequencing 출력물(fastq files)과 유저가 생성한 mapping file으로 시작한다. "
   ]
  },
  {
   "cell_type": "markdown",
   "metadata": {},
   "source": [
    "#### 4.1.1 Demultiplexing and quality-filtering\n",
    "high-throughput sequencing을 사용하면 여러 샘플을 한 sequencing 작업에 결합 할 수 있다. (Kuczynski et al., 2012)  \n",
    "그러나 각각의 sequence를 "
   ]
  },
  {
   "cell_type": "markdown",
   "metadata": {},
   "source": [
    "#### 4.1.2 OTU picking\n",
    "이번 스텝은 OTUs에 속하는 clustering preprocesse sequence이다. "
   ]
  },
  {
   "cell_type": "markdown",
   "metadata": {},
   "source": [
    "#### 4.1.3 Identify chimeric sequences  \n",
    "PCR amplification process를 하는 동안, 몇 개의 amplified sequences는 multiple prarent sequences과 chimeras가 포함된 sequences를 생성한다. "
   ]
  },
  {
   "cell_type": "markdown",
   "metadata": {},
   "source": [
    "#### 4.1.4 Taxonomy assignment\n",
    "다음 스탭은 QIIME에서 taxonomy를 각각의 대표적인 sequence에 지정하는 것이다."
   ]
  },
  {
   "cell_type": "markdown",
   "metadata": {},
   "source": [
    "#### 4.1.5 Sequence alignment\n",
    "다음 스탭은 QIIME workflow이며, sequences를 정렬하는 단계이다."
   ]
  },
  {
   "cell_type": "markdown",
   "metadata": {},
   "source": [
    "#### 4.1.6 Phylogeny construction\n",
    "이번 스텝은 이전단계에서 생성된 multiple sequence를 phylogenetic tree으로 추론을 한다."
   ]
  },
  {
   "cell_type": "markdown",
   "metadata": {},
   "source": [
    "#### 4.1.7 Make OTU table\n",
    "Upstream의 마지막 부분은 OTU table 구성하는 것이다."
   ]
  },
  {
   "cell_type": "markdown",
   "metadata": {},
   "source": [
    "### 4.2 Downstream analysis steps  \n",
    "일단 OTU table과 phylogenetic tree을 생성했으므로 Downstream analysis를 진행 할 수 있다.  \n",
    "이 시점에서 추천하는 것은 대량의 OTU를 초당(second level)으로 품질 필터링 하는것이다.  \n",
    "즉, 총 sequences에서 0.005% 미만의 OTU sequences를 제거하는 것이다.(see Bokulich et al., 2013 for a detailed description of the effect of this parameter in further downstream analyses)"
   ]
  },
  {
   "cell_type": "markdown",
   "metadata": {},
   "source": [
    "#### 4.2.1 Taxa summaries\n",
    "각 sample의 첫 번째 OTU visualize은 taxa summary이다.  \n",
    "taxa summary는 multiple taxonomic levels와 관계가 많은 taxa present의 샘플 집합을 요약하는 것이다.  "
   ]
  },
  {
   "cell_type": "markdown",
   "metadata": {},
   "source": [
    "#### 4.2.2 Diversity analysis\n",
    "미생물 생태학(Microbial ecology)은 서로 다른 환경에서 박테리아 군집을 특성화하고 이렇게 모인 군집에서 다양성을 구하는 요소를 결정함으로써 미생물의 다양성을 연구한다. 그리고 alpha-, beta-, gamma-의 다양성으로 서로 다른 다양성을 측정하고 유형을 정의한다.\n",
    "* Alpha-\n",
    "    * Alpha-diversity는 단일 표본 또는 환경에서 생물의 다양성을 정의한다.\n",
    "* Beta-\n",
    "    * Beta-diversity는 표본이 환경에 따른 다양성의 차이를 말한다.\n",
    "    * Beta-diversity is the difference in diversities across samples or environments.\n",
    "* Gamma-\n",
    "    * Gamma-diversity(𝛾-diversity)는 범위 또는 부분같이 광범위한 차원에서 다양성을 측정한다."
   ]
  },
  {
   "cell_type": "markdown",
   "metadata": {},
   "source": [
    "http://cafe.daum.net/_c21_/bbs_search_read?grpid=n91&fldid=3G4&datanum=102  \n",
    "* Alpha-diversity는 종 풍부도라는 개념이 가장 가까운 측정도 방법이고, 각기 다른 생태계에 서식하는 군집 간 종수를 비교할 때 흔히 사용된다.  \n",
    "  \n",
    "* Beta-diversity는 종 조성이 다양한 환경 기울기에 따라 얼마나 변하는지 그 정도를 나타내는 것이다.  \n",
    "예를 들어  \n",
    "> 이끼 군집이 고도에 따라 계속 변한다면 베타 다양성이 높다고 말 할 수 있지만,  \n",
    "산비탈을 따라 계속 동일한 종 조성이 유지된다면 베타 다양성이 낮다고 할 수 있다.  \n",
    "* Gamma-diversity는 지리적으로 좀더 넓은 범위에 적용될수 있다.  \n",
    "똑같은 서식처 간 또는 지리적인 지역 간 거리에 대한 어느 한 종의 회전률(turnover rate)을 의미한다.    \n",
    "즉, 감마 다양성이란 \"어떤 종들이 지리적으로 다른 지역에서 같은 종류의 서식처를 만난 확률\"을 말한다.  "
   ]
  },
  {
   "cell_type": "markdown",
   "metadata": {},
   "source": [
    "#### 4.2.3 Alpha-diversity analysis\n",
    "QIIME은  alpha-diversity의 결과를 보여주는 plot을 생성하여 diversity metric과 different rarefaction levels을 선택하도록 할 수 있다.  \n",
    "첨부된 그림(alpha-1)은 군집 중 특별히 많은 종을 평가하는데 사용된다.  \n",
    "  \n",
    "  ---\n",
    "![](img/alpha_diversity_1.png)  \n",
    "그림(alpha-1)\n",
    "> 다양한 OTU picking을 하는 방법은 Alpha-diversity curves의 depth에 따라 결정된다.  \n",
    " 각각의 라인은 alpha-diversity의 다양한 계통을 QIIME의 PD whole tree의 통해 나타낸 결과이다.\n",
    " (A), (C),and (E)는 OTU picking protocols(closed-, open-reference, and de nove)로 선정된 다른 시퀀스 depth이며, 다양한 각각의 샘플 표현하고 있다. \n",
    " closed-reference에서 OTU의 데이터 베이스만을 고려하여 diversity plateaus로 시퀀스가 생성된다.\n",
    " 또한 closed-reference는 de novo로 클러스터링 된 경우보다 OTU수 를 크게 줄인다.\n",
    " Alpha-diversity curves를 비교하는 것은 어렵다. 왜냐하면 시퀀스 depth가 서로 다르므로 샘플 중에서 비교하는 것은 어렵기 때문이다. \n",
    " (B),(D) 및 (F)는 두 종류의 쥐를 의미한다. 야생형(WT:오랜지색), 형질전환(TG:청색)\n",
    " * 형질전환동물:\n",
    " 유전적으로 변형된 유기체(GMO, Genetically modified organisme), 유전조작 생물"
   ]
  },
  {
   "cell_type": "markdown",
   "metadata": {},
   "source": [
    "QIIME은 indices(which require a phylogenetic)와 non phylogenetic indices 두가지를 포함한 수십 개의 alpha-diversity indices를 구현했다.\n",
    "User는 파라미터 -s를 alpha_diversity.py 스크립트에 전달하여 alpha-diversity indices(변수) 리스트를 얻을 수 있다 ."
   ]
  },
  {
   "cell_type": "markdown",
   "metadata": {},
   "source": [
    "비교를 위해 동일한 sequence depth로 만들어줘야, Rarefaction curves를 평가에 사용할 수 있다.  \n",
    "이 방식을 통하여 위의 그림(alpha-1)을 도출 하였고 미생물 군집을 대표하는 비교를 뽑아내었다.  \n",
    "그러나 Sanger sequencing을 사용할때는 rarefaction corves가 많이 사용되었지만,  \n",
    "요즘에는 대부분의 군집이 undersample 되었을때, OTU의 범위 와 예측 수 그리고 관측 수를 하나의 rarefaction depth로 사용하는 것이 더 유용한 경우가 많다."
   ]
  },
  {
   "cell_type": "markdown",
   "metadata": {},
   "source": [
    "#### 4.2.4 Beta-diversity analysis\n",
    "Beta-diversity는 rarefied OTU table로 부터 계산할 수 있고, 미생물 군집들을 구성물을 기반하여 비교한다.  \n",
    "alpha-diversity와 같이 QIIME은 많은 phylogenetic와 nonphylogenetic beta-diversity metrics(beta_diversity.py -s 명령어로 사용이 가능하다.) 계산이 가능하다.  \n",
    "이중에서 UniFact가 생물학적 의미를 이루는 패턴을 알아낼때 가장 보편적으로 유용하다는 것을 밝혀냈다.  \n",
    "> Unifrac는 각각의 군집 고유 진화량을 측정한다.(\n",
    "Unifrac measures the amount of unique evolution within each community with respect to another by calculating the fraction of branch length of the phylogenetic tree that is unique to either one of a pair of communities)  \n",
    "QIIME에 변형된 Unifrac이 구현되어 있으며, 가중치가 포함된 Unifrac과 가중치가 포함되지 않은 Unifrac이 있다.  \n",
    "가중치가 포함된 Unifrac metric은 각 구역마다 각 군집의 OTU의 probability mass의 차이로 가중치가 부여되고,  \n",
    "가중치가 포함되지 않은 Unifrac metric은 OTU의 존재/부재만 확인한다.  \n",
    "* Weighted Unifrac : weighted Unifrac은 taxa가 존재여부 보다, taxa의 양에 차이를 지닌 서로 다른 군집 탐지하는데 추천한다.  \n",
    "* Unweighted Unifrac : taxa의 존재만을 고려한 다른 metrics와 마찬가지로 Unifrac metric는 DNA extraction efficienty, PCR amplification, 등에 민감한 성향이 있다.  \n",
    "  \n",
    "metrics선택은 beta-diversity 분석에서 중요하며, 동일한 데이터 셋에서 군집과 gradient patterns탐지하는 능력이 달라진다. (Arumugam et al., 2011; Ravel et al., 2012; Schloss &\n",
    "Handelsman, 2006)  \n",
    "See Kuczynski, Liu, et al. (2010) for a detailed discussion of the performance of different nonphylogenetic metrics.  "
   ]
  },
  {
   "cell_type": "markdown",
   "metadata": {},
   "source": [
    "QIIME은 각 쌍의 input sample의 beta-diversities 계산하여 distance matrix를 만든다.  \n",
    "distance matrix를 만든 이후 visualized를 진행하며, PCoA(Mardia, Kent, & Bibby, 1979)와 hierarchical clustering(Tryon, 1939) 두 가지 모두 visualized에 널리 사용되었다.  \n",
    "PCoA는 original multidimentsional matrix의 maximum amount의 데이터셋의 관성을 를 새로운 직교축으로 변환하고 구현되어 있는 QIIME 스케일에 수천개의 샘플로 변환한다.  PCoA transforms the original multidimensional matrix to a new set of orthogonal axes that explain the maximum amount of inertia in the dataset (Gower, 1966; Mardia et al., 1979) and the current implementation in QIIME scales to thousands of samples.  \n",
    "지금은 대략적인 방법으로 수천개의 샘플을 평가한다.  "
   ]
  },
  {
   "cell_type": "markdown",
   "metadata": {},
   "source": [
    "---"
   ]
  },
  {
   "cell_type": "markdown",
   "metadata": {},
   "source": [
    "![](img/beta-1.png)"
   ]
  },
  {
   "cell_type": "markdown",
   "metadata": {},
   "source": [
    "그림(beta-1)\n",
    "> 위 그림은 unweighted Unifrac beta-diversity 이다.  \n",
    "* Panels A-C까지 Dataset에 de novo OTU picking, closed-reference OTU picking, 그리고 open-reference OTU picking을 jackknifed 출력한 결과이다.  \n",
    "세가지 그림은 OTU picking approache에 따른 다른 결과를 나타낸다.  \n",
    "각각의 점은 WT mouse(orange), TG mouse(blue)를 나타낸다.  \n",
    "두개의 그룹은 깨끗하게 분리되지 않았다.  \n",
    "그 이유는 아마도 깨끗하게 전처리 되지 않았기 때문이다.(recall 방법은 다양하게 존재한다.)  \n",
    "타원형의 크기는 jackknife analysis로 분석한 각 샘플의 변동?(분산?) 계산값을 나타낸다. (The size of the ellipsoids shows the variation for each sample calculated from jackknife analysis)  \n",
    "위 plot을 생성하는 명령어는 다음과 같다.  \n",
    "  \n",
    "`jackknifed_beta_diversity.py -i $PWD/denovo_otus/otu_table_filtered.biom -t $PWD/denovo_otus/rep_set.tre -m\n",
    "$PWD/IQ_Bio_16sV4_L001_map.txt -o $PWD/diversity_analysis/jk_denovo\n",
    "-e 7205 -a -O 64`(input parameters는 다른 OTU picking approach에서 사용된 OTU table이 적용되야한다.)  \n",
    "> * Panel D는 \"keyboard\" data set에서 온 beta-diversity PCoA plot을 나타낸다.(Fierer et al., 2010)  \n",
    "\"keyboard\" data set은 미생물 군집 유상성을 통해 개인의 키보드에 연결한다.  \n",
    "각 점은 3명의 개인의 손끝과 키보드 키로 부터 샘플링한 미생물 군집을 나타낸다.\n",
    "* panel A-C와 대조적으로 panel D는 PCoA plot에서 각 개체의 미생물 군집이 잘 나눠진것을 보여준다."
   ]
  },
  {
   "cell_type": "markdown",
   "metadata": {},
   "source": [
    "QIIME은 PCoA를 KiNG 뷰어를 통해 3차원에서 시각화한다.  \n",
    "PCoA plot의 안정성을 평가하기위해서 jackknife resampling을 OTU table에서 수행가능하고, 각 resampling된 table에 PCoA절차를 재 수행한뒤 sample point 주변에 타 원형으로 집계 결과를 ploting 한다.(그림 beta-1)  \n",
    "UniFrac뿐만 아니라 많은 다양성 측정 방법이 표본 당 서열 수에 민감하게 반응하기 때문에 Jackkiniffe를 추천한다.\n"
   ]
  },
  {
   "cell_type": "markdown",
   "metadata": {},
   "source": [
    "[Jackkiniffe에 관한 논문](https://www.researchgate.net/profile/Ruofei_Du/publication/323595926_A_weighted_Jackknife_method_for_clustered_data/links/5b3b9e174585150d23f64029/A-weighted-Jackknife-method-for-clustered-data.pdf?origin=publication_detail)"
   ]
  },
  {
   "cell_type": "markdown",
   "metadata": {},
   "source": [
    "---\n",
    "![](img/beta-2.png)  \n",
    "그림(beta-2)  \n",
    "> 다음 그림은 Biplot의 data set예제이다.  \n",
    "이 unweighted Unifrac beta-diversity plot은 위 그림과 비슷한 하다.  \n",
    "5개의 레이블은 phylum-level이 가장 풍부한 5개의 taxa를 표시한것이다.  \n",
    "각 분류 원의 크기는 각 taxon  (The size of the sphere for each taxon is proportional to the mean relative abundance of that taxon across all samples.)  \n",
    "위 plot을 생성하는 명령어는 다음과 같다.  \n",
    "  \n",
    "`make_3d_plots.py -i $PWD/diversity_analysis/open_ref/bdiv_even7205/\n",
    "unweighted_unifrac_pc.txt -m $PWD/IQ_Bio_16sV4_L001_map.txt -t $PWD/\n",
    "diversity_analysis/open_ref/taxa_plots/table_mc7205_sorted_L3.txt\n",
    "–n_taxa_keep 5 -o $PWD/diversity_analysis/3d_biplot.`"
   ]
  },
  {
   "cell_type": "markdown",
   "metadata": {},
   "source": [
    "#### 4.2.6 OTU networks  \n",
    "가끔 Network-based analysis는 OUT의 샘플이 어떻게 분할 됬는지 시각화 하는것과 표본이 서로 어떻게 연관 되어 있는지에 대해 시각화 하는것에 매우 유용하다.  \n",
    "그렇지만 이 분석은 데이터 셋이 모두 평등하게(equally) 연결되지 않은 dataset에 만 사용하는 것이 적합하다."
   ]
  },
  {
   "cell_type": "markdown",
   "metadata": {},
   "source": [
    "#### 4.2.7 OTU heatmaps  \n",
    "OTUs와 sample의 관계에 대한 시각화를 위한 다른 방법은 heatmap을 사용하는 것이다.  \n",
    "heatmap은 molecular biology의 다른 분야에서도 범용적으로 사용한다."
   ]
  },
  {
   "cell_type": "markdown",
   "metadata": {},
   "source": [
    "#### 4.2.8 OTU category significance  \n"
   ]
  },
  {
   "cell_type": "markdown",
   "metadata": {},
   "source": [
    "## 5. OTHER FEATURES  \n"
   ]
  },
  {
   "cell_type": "markdown",
   "metadata": {},
   "source": [
    "## 6. RECOMMENDATIONS"
   ]
  },
  {
   "cell_type": "markdown",
   "metadata": {},
   "source": [
    "## 7. CONCLUSIONS\n",
    "QIIME은  bacterial community의 분석에 매우 강력한 툴이다.\n",
    "연구원들이 반복적으로 필요로 하는 시퀀스 프로세스 즉, raw data를 visualizations 하거나 결과를 해석하는데 매우 강력하다.\n",
    "두가지의 장점이 QIIME을 매우 유용하게 만든다.\n",
    "* 알고리즘의 충실도로 인해 분석이 일관적이다.  \n",
    "충실하게 구현된 알고리즘으로 오리지널 저자가 만든 알고리즘을 제대로 디자인하고 만들었고 테스트하였고 그때문에 QIIME은 다른 platforms와 차별화 되게 되었다.   \n",
    "그리고 한번 upsteam 프로세스가 끝난다.?   \n",
    "downstream 프로세스는 시퀀스 platform의 same independent 사용한다.  \n",
    "위 특징이 지속적으로 QIIME open source가 update 되도록하였고 QIIME usr 커뮤니티가 급성장하게 되는 것을 촉진하게 되었다.(Caporaso, Kuczynski, et al., 2010)."
   ]
  },
  {
   "cell_type": "markdown",
   "metadata": {},
   "source": [
    "Downstream 과 Upsteam 프로세스는 분석을 수행하는 몇가지 옵션제공하는 형태로 QIIME에게 이행한다.  \n",
    "이 리뷰에서는, 각 단계의 원칙과 스크립트의 기능 및 옵션 간 선택 방법에 대해서 논의하고 시연한다.  \n",
    "QIIME의 사용과 독립적으로, 이 리뷰는 또한 high-throughput 시퀀싱에 의해 생성된 16S rRNA 서열 분석에 미생불 군집 분석의 전형적인 단계의 개요를 제공하고 있다."
   ]
  }
 ],
 "metadata": {
  "kernelspec": {
   "display_name": "Python 3",
   "language": "python",
   "name": "python3"
  },
  "language_info": {
   "codemirror_mode": {
    "name": "ipython",
    "version": 3
   },
   "file_extension": ".py",
   "mimetype": "text/x-python",
   "name": "python",
   "nbconvert_exporter": "python",
   "pygments_lexer": "ipython3",
   "version": "3.7.1"
  }
 },
 "nbformat": 4,
 "nbformat_minor": 2
}
