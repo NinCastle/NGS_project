{
 "cells": [
  {
   "cell_type": "markdown",
   "metadata": {},
   "source": [
    "# Sanger sequencing"
   ]
  },
  {
   "cell_type": "markdown",
   "metadata": {},
   "source": [
    "## 기본 원리\n",
    "1977년 생거 등에 의해 개발된 염기서열 분석법.  \n",
    "![](http://www.vce.bioninja.com.au/_Media/sequencing_med.jpeg)"
   ]
  },
  {
   "cell_type": "markdown",
   "metadata": {},
   "source": [
    "위 그림의 상단에 나와 있는 3-'ATGACTGAGC-5'와 같은 template DNA의 서열을 분석하는 경우에,  \n",
    "일반적인 d{A, C, G, T}TP(NTP)만 넣어주면 DNA를 합성하게 된다.   \n",
    "  \n",
    "하지만 dNTP외에 소량의 dd{A, C, G, T}TP(ddNTP)를 섞어주게 되면,  \n",
    "DNA polymerase가 template DNA에 상보적인 서열을 합성해 나가다가,  \n",
    "중간중간에 ddNTP가 끼어 들어간 DNA 분자가 합성하게 된다.  \n",
    "  \n",
    "이들 ddNTP에는 각각의 구별할 수 있는 형광물지이 결합되어 있기에,  \n",
    "새로이 합성된 DNA들의 마지막 염기 종류에 따라 서로 다른 형광을 띄게 된다.   \n",
    "  \n",
    "여기에서 주목할 것은, 합성된 DNA 분자들은 모든 자리에서 4개중 어느 하나의 ddNTP가 끼어 들어간 것이기에,  \n",
    "정확히 한 염기씩 길이의 차이가 나는 것들이다.  \n",
    "  \n",
    "이들은 전기영동법에 의해 크기 순으로 나열 할 수 있으며,  \n",
    "레이저 빛을 각 전기영동 밴드에 쬐면,  \n",
    "형광물질에 따라 특이적인 파장의 빛이 발하게 되며,  \n",
    "이를 순서대로 읽으면 원래 염기서열과 상보적인 5'-TACTGACTCG-3'을 얻게 된다."
   ]
  },
  {
   "cell_type": "markdown",
   "metadata": {},
   "source": [
    "## polymerase 작동법"
   ]
  },
  {
   "cell_type": "markdown",
   "metadata": {},
   "source": [
    "![](https://www.visionlearning.com/img/library/large_images/image_4903.jpg)"
   ]
  },
  {
   "cell_type": "markdown",
   "metadata": {},
   "source": [
    "만약에 DNA두개로 분리하고 각각이 single strand로 존재 할 경우 Primer를 미리 정하여 시퀀스를 지속적으로 Primer 값을 넣어주고 double strands를 만든다.   \n",
    "그때 dATP, dTTP, dCTP, dGTP를 넣어주며 strands를 생성한다."
   ]
  },
  {
   "cell_type": "markdown",
   "metadata": {},
   "source": [
    "여기에서 다음 사항을 공부해 보세요.\n",
    "\n",
    "* ddNTP는 dNTP와 화학적으로 어떻게 달라서 위 그림에서와 같이 chain-terminating 반응을 할 수 있는가?\n",
    "\n",
    "* ddNTP와 dNTP는 어는 정도의 비율로 섞어 줘야 할까?\n",
    "\n",
    "* 원래 생거시퀀싱이 개발될 때는 형광물질이 아닌 燐 방사성 동위원소의 방사선을 X-선 필름에 감광하였다. 이때는 A,T,G,C를 어떻게 구별했을까?\n",
    "\n",
    "* DNA polymerase가 상보적인 염기를 합성하려면, 소위 primer라는 DNA 조각이 결합된 이중나선 부위가 존재하여야 그 뒤의 단일가닥 부위에 상보적인 합성이 가능하다 (참고 그림). 우리가 시퀀싱하고자 하는 DNA는 일반적으로 그 서열을 모르는데, 어떻게 primer를 합성하여 반응에 사용할 수 있을까?\n",
    "\n",
    "* 생거 시퀀싱에 대해 더 자세한 정보를 원하면 다음 사이트를 공부해 보세요.\n",
    "    * 위키피디아: [Sanger sequencing](https://en.wikipedia.org/wiki/Sanger_sequencing)\n",
    "    * 미국 인간게놈연구소 교육사이트 온라인 애니메이션: [How to Sequence a Genome (Chapter 6-10)](https://www.genome.gov/25019885/)"
   ]
  },
  {
   "cell_type": "markdown",
   "metadata": {},
   "source": [
    "## Base call quality score"
   ]
  },
  {
   "cell_type": "markdown",
   "metadata": {},
   "source": [
    "전기영동으로 다양한 크기의 DNA 분자를 분리하는 방법은,  \n",
    "DNA 분자에 있는 인산결합이 음전하를 띄고 있기에 아래쪽에 양극을 배치하여 전기적으로 당기게 된다.  \n",
    "  \n",
    "일반적으로 수 시간이 걸리게 되는데, 처음에는 크기에 따라 잘 구별되던 DNA분자들이 시간이 경과하면서 확산작용으로 인하여 번지게 된다.  \n",
    "  \n",
    "따라서 늦게 나오는 전기영동 밴드는 더 넓게 퍼진 상태가 되며,  \n",
    "심해지면 이웃 밴드와 겹치게 되어 분해능이 떨어지게 된다.   \n",
    "아래의 일반적인 전기영동 크로마토그램을 보면 이와 같은 형상을 볼 수 있다.\n",
    "![](https://www.pnas.org/content/pnas/103/19/7240/F4.large.jpg)"
   ]
  },
  {
   "cell_type": "markdown",
   "metadata": {},
   "source": [
    "---"
   ]
  },
  {
   "cell_type": "markdown",
   "metadata": {},
   "source": [
    "이런 전기영동 크로마토글램을 분석하여 염기서열을 결정짓는 소프트웨어들은 각 위치별로 염기 서열 분석 결과의 신뢰도를 에러율의 형태로 출력한다.   \n",
    "\n",
    "즉, **\"T\"**라고 판정했으면, **\"그것이 틀릴확률 은 1%이다\"** 라고 보고하는 것이다.  \n",
    "  \n",
    "일반적으로 에러율이 1% 넘는 염기들이 연속적으로 등장할 경우, 그 뒤부분의 서열은 모두 도려낸다.  \n",
    "  \n",
    "생거 시퀀싱은 한번에 통상 500 염기 정도의 양질의 서열을 얻을 수 있는것으로 알려져 있다."
   ]
  },
  {
   "cell_type": "markdown",
   "metadata": {},
   "source": [
    "여기에서 다음 사항을 공부해 보세요.\n",
    "\n",
    "* 시퀀싱 크로마토그램의 뒷 부분뿐이 아니라, 앞부분도 봉우리가 깔끔하지 않다. 이 부분도 뒷부분과 마찬가지 방법으로 제거하는 것이 좋을까?\n",
    "\n",
    "* 염기 서열 분석의 정확도는 에러율의 형태로 나타내다보니까 0~1의 작은 수이기에 사용에 불편할 때가 많다. Phred라는 염기서열분석 소프트웨어는 자체적으로 변화한 값을 출력하는데, 이를 통상 phred score라고 부른다. 에러율에 상용로그를 취하고 -10을 곱한 수이다. 즉, 에러율이 1%라면 phred score는 20이 된다. 만약에 에러율이 0.1%면 phred score는 얼마인가? 또한 phred score가 40이라면 이는 에러율 얼마에 해당하는가?\n",
    "\n",
    "$$\n",
    "1 : 20 = x : 40 \\\\\n",
    "\\frac{1}{x} = \\frac{20}{40} \\\\\n",
    "\\frac{1}{x} = \\frac{1}{2} \\\\\n",
    "x = 2\n",
    "$$"
   ]
  }
 ],
 "metadata": {
  "kernelspec": {
   "display_name": "Python 3",
   "language": "python",
   "name": "python3"
  },
  "language_info": {
   "codemirror_mode": {
    "name": "ipython",
    "version": 3
   },
   "file_extension": ".py",
   "mimetype": "text/x-python",
   "name": "python",
   "nbconvert_exporter": "python",
   "pygments_lexer": "ipython3",
   "version": "3.5.5"
  }
 },
 "nbformat": 4,
 "nbformat_minor": 2
}
