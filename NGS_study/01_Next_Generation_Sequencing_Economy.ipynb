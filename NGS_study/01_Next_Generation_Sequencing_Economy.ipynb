{
 "cells": [
  {
   "cell_type": "markdown",
   "metadata": {},
   "source": [
    "http://sskimb.wixsite.com/welcome/next-generation-sequencing  \n",
    "http://ssuocw.ssu.ac.kr/post/1099"
   ]
  },
  {
   "cell_type": "markdown",
   "metadata": {},
   "source": [
    "# Next Generation Sequencing (NGS) Economy"
   ]
  },
  {
   "cell_type": "markdown",
   "metadata": {},
   "source": [
    "인간 개놈 프로젝트는 1990년에 시작하였고 2003년에 완성하였다.  \n",
    "미국보건원 산하 인간게놈연구소는, $1000면 한명의 인간 게놈을 시퀀싱 할 수 있는 기술을 개발하는 프로젝트를 공모한다.  \n",
    "아래에 그 결과가 나타나 있다."
   ]
  },
  {
   "cell_type": "markdown",
   "metadata": {},
   "source": [
    "![](https://www.researchgate.net/profile/Henryk_Czosnek/publication/259627245/figure/fig1/AS:601771646926851@1520484949145/Cost-in-US-Dollars-per-raw-megabase-of-DNA-sequence-top-and-cost-per-genome-bottom.png)"
   ]
  },
  {
   "cell_type": "markdown",
   "metadata": {},
   "source": [
    "상위 그래프는 1 Mb의 염기서열을 시퀀싱하는데 소요되는 비용이 매년 줄어드는 것을 보여준다.  \n",
    "이는 무어의 법칙과 비슷하게 움직인다.  \n",
    "그러다 2008년을 기준으로 비용이 급격히 하락한다.  \n",
    "새로운 시퀀스 기술에 등장으로 인해 비용이 급격하게 하락하게 된것이다.  \n",
    "그것이 바로 NGS이다.  "
   ]
  },
  {
   "cell_type": "markdown",
   "metadata": {},
   "source": [
    "NGS는 생거 기술보다 정확도가 떨어지므로 몇배 많은 반복이 필요하다. 또한 정확도를 보정하기 위한 알고리즘이 필요한다.  \n",
    "윈도우보다는 리눅스를 사용한다."
   ]
  }
 ],
 "metadata": {
  "kernelspec": {
   "display_name": "Python 3",
   "language": "python",
   "name": "python3"
  },
  "language_info": {
   "codemirror_mode": {
    "name": "ipython",
    "version": 3
   },
   "file_extension": ".py",
   "mimetype": "text/x-python",
   "name": "python",
   "nbconvert_exporter": "python",
   "pygments_lexer": "ipython3",
   "version": "3.5.5"
  }
 },
 "nbformat": 4,
 "nbformat_minor": 2
}
